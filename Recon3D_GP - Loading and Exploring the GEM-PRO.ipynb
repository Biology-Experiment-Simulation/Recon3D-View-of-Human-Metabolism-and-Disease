{
 "cells": [
  {
   "cell_type": "markdown",
   "metadata": {},
   "source": [
    "# Recon3D_GP - Loading and Exploring the GEM-PRO\n",
    "\n",
    "This notebook guides you through loading the GEM-PRO model for **Recon3D_GP** and exploring the contents of it.\n",
    "\n",
    "### Requirements:\n",
    "- ``ssbio`` - installation instructions [here](http://ssbio.readthedocs.io/en/latest/#installation), documentation [here](http://ssbio.readthedocs.io/en/latest/index.html)\n",
    "\n",
    "### Quick start:\n",
    "\n",
    "##### Installation\n",
    "```bash\n",
    "pip install nglview\n",
    "pip install ssbio\n",
    "```\n",
    "\n",
    "##### Running the notebook\n",
    "\n",
    "1. Obtain one of these three items:\n",
    "    1. GitHub repository clone (`git clone https://github.com/SBRG/Recon3D`)\n",
    "    1. Lite GEM-PRO archive (`Recon3D_GP.tar.gz`)\n",
    "    1. GEM-PRO model (``Recon3D_GP.json.gz``)\n",
    "1. If A: just open this notebook and run it.\n",
    "1. If B: unzip the archive into the directory where this notebook is located.\n",
    "1. If C: create a folder where this notebook is located, named ``Recon3D_GP/model/`` and place ``Recon3D_GP.json.gz`` in it.\n",
    "1. Make sure your files are arranged like so:\n",
    "```\n",
    ".\n",
    "├── Recon3D_GP\n",
    "│   ├── data\n",
    "│   ├── genes\n",
    "│   ├── homology_models_raw\n",
    "│   └── model\n",
    "│       └── Recon3D_GP.json.gz\n",
    "├── Recon3D_GP - Loading and Exploring the GEM-PRO.ipynb\n",
    "└── Recon3D_GP - Updating the GEM-PRO.ipynb\n",
    "```\n",
    "1. Run this notebook!"
   ]
  },
  {
   "cell_type": "markdown",
   "metadata": {},
   "source": [
    "## Loading the GEM-PRO"
   ]
  },
  {
   "cell_type": "code",
   "execution_count": 1,
   "metadata": {
    "collapsed": true
   },
   "outputs": [],
   "source": [
    "# Loading the JSON file\n",
    "# Change the location of the .json file if it is located somewhere else\n",
    "from ssbio.io import load_json\n",
    "Recon3D_GP = load_json('./Recon3D_GP/model/Recon3D_GP.json.gz', decompression=True)"
   ]
  },
  {
   "cell_type": "code",
   "execution_count": 2,
   "metadata": {
    "collapsed": true
   },
   "outputs": [],
   "source": [
    "# # Alternative - loading the pickle file\n",
    "# # Uncomment and use this loading method if the JSON file fails to load\n",
    "# from ssbio.io import load_pickle\n",
    "# Recon3D_GP = load_pickle('./Recon3D_GP/model/Recon3D_GP.pckl')"
   ]
  },
  {
   "cell_type": "markdown",
   "metadata": {},
   "source": [
    "## Basic information & DataFrames"
   ]
  },
  {
   "cell_type": "markdown",
   "metadata": {},
   "source": [
    "### Genes with and without structures"
   ]
  },
  {
   "cell_type": "code",
   "execution_count": 3,
   "metadata": {},
   "outputs": [
    {
     "data": {
      "text/plain": [
       "[<GenePro 8639__46__1 at 0x7fb45b1896d8>,\n",
       " <GenePro 26__46__1 at 0x7fb4990cb470>,\n",
       " <GenePro 10993__46__1 at 0x7fb45b0ff438>,\n",
       " <GenePro 3945__46__1 at 0x7fb45b0b80b8>,\n",
       " <GenePro 3939__46__1 at 0x7fb45b0b8198>,\n",
       " <GenePro 4967__46__2 at 0x7fb45b011b00>,\n",
       " <GenePro 1738__46__1 at 0x7fb45b011be0>,\n",
       " <GenePro 8050__46__1 at 0x7fb45b01ba58>,\n",
       " <GenePro 4967__46__1 at 0x7fb45af725c0>,\n",
       " <GenePro 127__46__1 at 0x7fb45af8f0f0>]"
      ]
     },
     "execution_count": 3,
     "metadata": {},
     "output_type": "execute_result"
    }
   ],
   "source": [
    "# List all genes that have at least one experimental PDB structure\n",
    "Recon3D_GP.genes_with_experimental_structures[:10]"
   ]
  },
  {
   "cell_type": "code",
   "execution_count": 4,
   "metadata": {},
   "outputs": [
    {
     "data": {
      "text/plain": [
       "[<GenePro 1591__46__1 at 0x7fb45b0ee278>,\n",
       " <GenePro 1594__46__1 at 0x7fb45b0ee908>,\n",
       " <GenePro 10993__46__1 at 0x7fb45b0ff438>,\n",
       " <GenePro 89874__46__1 at 0x7fb45b118c18>,\n",
       " <GenePro 92483__46__1 at 0x7fb45b118d30>,\n",
       " <GenePro 3945__46__1 at 0x7fb45b0b80b8>,\n",
       " <GenePro 3939__46__1 at 0x7fb45b0b8198>,\n",
       " <GenePro 160287__46__1 at 0x7fb45b0cb908>,\n",
       " <GenePro 3948__46__1 at 0x7fb45b044ba8>,\n",
       " <GenePro 9123__46__1 at 0x7fb45b053668>]"
      ]
     },
     "execution_count": 4,
     "metadata": {},
     "output_type": "execute_result"
    }
   ],
   "source": [
    "# List all genes that have at least one homology model\n",
    "Recon3D_GP.genes_with_homology_models[:10]"
   ]
  },
  {
   "cell_type": "markdown",
   "metadata": {},
   "source": [
    "### Summary DataFrames"
   ]
  },
  {
   "cell_type": "code",
   "execution_count": 5,
   "metadata": {},
   "outputs": [
    {
     "data": {
      "text/html": [
       "<div>\n",
       "<style scoped>\n",
       "    .dataframe tbody tr th:only-of-type {\n",
       "        vertical-align: middle;\n",
       "    }\n",
       "\n",
       "    .dataframe tbody tr th {\n",
       "        vertical-align: top;\n",
       "    }\n",
       "\n",
       "    .dataframe thead th {\n",
       "        text-align: right;\n",
       "    }\n",
       "</style>\n",
       "<table border=\"1\" class=\"dataframe\">\n",
       "  <thead>\n",
       "    <tr style=\"text-align: right;\">\n",
       "      <th></th>\n",
       "      <th>id</th>\n",
       "      <th>sequences</th>\n",
       "      <th>num_sequences</th>\n",
       "      <th>representative_sequence</th>\n",
       "      <th>repseq_gene_name</th>\n",
       "      <th>repseq_uniprot</th>\n",
       "      <th>repseq_description</th>\n",
       "      <th>num_structures</th>\n",
       "      <th>experimental_structures</th>\n",
       "      <th>num_experimental_structures</th>\n",
       "      <th>homology_models</th>\n",
       "      <th>num_homology_models</th>\n",
       "      <th>representative_structure</th>\n",
       "      <th>representative_chain</th>\n",
       "      <th>representative_chain_seq_coverage</th>\n",
       "      <th>repstruct_resolution</th>\n",
       "      <th>num_sequence_alignments</th>\n",
       "      <th>num_structure_alignments</th>\n",
       "    </tr>\n",
       "    <tr>\n",
       "      <th>gene</th>\n",
       "      <th></th>\n",
       "      <th></th>\n",
       "      <th></th>\n",
       "      <th></th>\n",
       "      <th></th>\n",
       "      <th></th>\n",
       "      <th></th>\n",
       "      <th></th>\n",
       "      <th></th>\n",
       "      <th></th>\n",
       "      <th></th>\n",
       "      <th></th>\n",
       "      <th></th>\n",
       "      <th></th>\n",
       "      <th></th>\n",
       "      <th></th>\n",
       "      <th></th>\n",
       "      <th></th>\n",
       "    </tr>\n",
       "  </thead>\n",
       "  <tbody>\n",
       "    <tr>\n",
       "      <th>0</th>\n",
       "      <td>0</td>\n",
       "      <td>[]</td>\n",
       "      <td>0</td>\n",
       "      <td>NaN</td>\n",
       "      <td>NaN</td>\n",
       "      <td>NaN</td>\n",
       "      <td>NaN</td>\n",
       "      <td>0</td>\n",
       "      <td>[]</td>\n",
       "      <td>0</td>\n",
       "      <td>[]</td>\n",
       "      <td>0</td>\n",
       "      <td>NaN</td>\n",
       "      <td>NaN</td>\n",
       "      <td>NaN</td>\n",
       "      <td>NaN</td>\n",
       "      <td>0</td>\n",
       "      <td>0</td>\n",
       "    </tr>\n",
       "    <tr>\n",
       "      <th>10000__46__1</th>\n",
       "      <td>10000__46__1</td>\n",
       "      <td>[Q9Y243-1]</td>\n",
       "      <td>1</td>\n",
       "      <td>Q9Y243-1</td>\n",
       "      <td>AKT3</td>\n",
       "      <td>Q9Y243-1</td>\n",
       "      <td>RAC-gamma serine/threonine-protein kinase</td>\n",
       "      <td>3</td>\n",
       "      <td>[2x18]</td>\n",
       "      <td>1</td>\n",
       "      <td>[H03080]</td>\n",
       "      <td>1</td>\n",
       "      <td>REP-H03080</td>\n",
       "      <td>X</td>\n",
       "      <td>1.0</td>\n",
       "      <td>NaN</td>\n",
       "      <td>9</td>\n",
       "      <td>0</td>\n",
       "    </tr>\n",
       "    <tr>\n",
       "      <th>10005__46__1</th>\n",
       "      <td>10005__46__1</td>\n",
       "      <td>[O14734-1]</td>\n",
       "      <td>1</td>\n",
       "      <td>O14734-1</td>\n",
       "      <td>ACOT8</td>\n",
       "      <td>O14734-1</td>\n",
       "      <td>Acyl-coenzyme A thioesterase 8</td>\n",
       "      <td>3</td>\n",
       "      <td>[]</td>\n",
       "      <td>0</td>\n",
       "      <td>[H28002, ENSP00000217455]</td>\n",
       "      <td>2</td>\n",
       "      <td>REP-H28002</td>\n",
       "      <td>X</td>\n",
       "      <td>1.0</td>\n",
       "      <td>NaN</td>\n",
       "      <td>1</td>\n",
       "      <td>0</td>\n",
       "    </tr>\n",
       "    <tr>\n",
       "      <th>10005__46__2</th>\n",
       "      <td>10005__46__2</td>\n",
       "      <td>[]</td>\n",
       "      <td>0</td>\n",
       "      <td>NaN</td>\n",
       "      <td>NaN</td>\n",
       "      <td>NaN</td>\n",
       "      <td>NaN</td>\n",
       "      <td>0</td>\n",
       "      <td>[]</td>\n",
       "      <td>0</td>\n",
       "      <td>[]</td>\n",
       "      <td>0</td>\n",
       "      <td>NaN</td>\n",
       "      <td>NaN</td>\n",
       "      <td>NaN</td>\n",
       "      <td>NaN</td>\n",
       "      <td>0</td>\n",
       "      <td>0</td>\n",
       "    </tr>\n",
       "    <tr>\n",
       "      <th>10005__46__3</th>\n",
       "      <td>10005__46__3</td>\n",
       "      <td>[]</td>\n",
       "      <td>0</td>\n",
       "      <td>NaN</td>\n",
       "      <td>NaN</td>\n",
       "      <td>NaN</td>\n",
       "      <td>NaN</td>\n",
       "      <td>0</td>\n",
       "      <td>[]</td>\n",
       "      <td>0</td>\n",
       "      <td>[]</td>\n",
       "      <td>0</td>\n",
       "      <td>NaN</td>\n",
       "      <td>NaN</td>\n",
       "      <td>NaN</td>\n",
       "      <td>NaN</td>\n",
       "      <td>0</td>\n",
       "      <td>0</td>\n",
       "    </tr>\n",
       "  </tbody>\n",
       "</table>\n",
       "</div>"
      ],
      "text/plain": [
       "                        id   sequences  num_sequences representative_sequence  \\\n",
       "gene                                                                            \n",
       "0                        0          []              0                     NaN   \n",
       "10000__46__1  10000__46__1  [Q9Y243-1]              1                Q9Y243-1   \n",
       "10005__46__1  10005__46__1  [O14734-1]              1                O14734-1   \n",
       "10005__46__2  10005__46__2          []              0                     NaN   \n",
       "10005__46__3  10005__46__3          []              0                     NaN   \n",
       "\n",
       "             repseq_gene_name repseq_uniprot  \\\n",
       "gene                                           \n",
       "0                         NaN            NaN   \n",
       "10000__46__1             AKT3       Q9Y243-1   \n",
       "10005__46__1            ACOT8       O14734-1   \n",
       "10005__46__2              NaN            NaN   \n",
       "10005__46__3              NaN            NaN   \n",
       "\n",
       "                                     repseq_description  num_structures  \\\n",
       "gene                                                                      \n",
       "0                                                   NaN               0   \n",
       "10000__46__1  RAC-gamma serine/threonine-protein kinase               3   \n",
       "10005__46__1             Acyl-coenzyme A thioesterase 8               3   \n",
       "10005__46__2                                        NaN               0   \n",
       "10005__46__3                                        NaN               0   \n",
       "\n",
       "             experimental_structures  num_experimental_structures  \\\n",
       "gene                                                                \n",
       "0                                 []                            0   \n",
       "10000__46__1                  [2x18]                            1   \n",
       "10005__46__1                      []                            0   \n",
       "10005__46__2                      []                            0   \n",
       "10005__46__3                      []                            0   \n",
       "\n",
       "                        homology_models  num_homology_models  \\\n",
       "gene                                                           \n",
       "0                                    []                    0   \n",
       "10000__46__1                   [H03080]                    1   \n",
       "10005__46__1  [H28002, ENSP00000217455]                    2   \n",
       "10005__46__2                         []                    0   \n",
       "10005__46__3                         []                    0   \n",
       "\n",
       "             representative_structure representative_chain  \\\n",
       "gene                                                         \n",
       "0                                 NaN                  NaN   \n",
       "10000__46__1               REP-H03080                    X   \n",
       "10005__46__1               REP-H28002                    X   \n",
       "10005__46__2                      NaN                  NaN   \n",
       "10005__46__3                      NaN                  NaN   \n",
       "\n",
       "              representative_chain_seq_coverage  repstruct_resolution  \\\n",
       "gene                                                                    \n",
       "0                                           NaN                   NaN   \n",
       "10000__46__1                                1.0                   NaN   \n",
       "10005__46__1                                1.0                   NaN   \n",
       "10005__46__2                                NaN                   NaN   \n",
       "10005__46__3                                NaN                   NaN   \n",
       "\n",
       "              num_sequence_alignments  num_structure_alignments  \n",
       "gene                                                             \n",
       "0                                   0                         0  \n",
       "10000__46__1                        9                         0  \n",
       "10005__46__1                        1                         0  \n",
       "10005__46__2                        0                         0  \n",
       "10005__46__3                        0                         0  "
      ]
     },
     "execution_count": 5,
     "metadata": {},
     "output_type": "execute_result"
    }
   ],
   "source": [
    "# Summarize each protein\n",
    "Recon3D_GP.df_proteins.head()"
   ]
  },
  {
   "cell_type": "code",
   "execution_count": 6,
   "metadata": {},
   "outputs": [
    {
     "data": {
      "text/html": [
       "<div>\n",
       "<style scoped>\n",
       "    .dataframe tbody tr th:only-of-type {\n",
       "        vertical-align: middle;\n",
       "    }\n",
       "\n",
       "    .dataframe tbody tr th {\n",
       "        vertical-align: top;\n",
       "    }\n",
       "\n",
       "    .dataframe thead th {\n",
       "        text-align: right;\n",
       "    }\n",
       "</style>\n",
       "<table border=\"1\" class=\"dataframe\">\n",
       "  <thead>\n",
       "    <tr style=\"text-align: right;\">\n",
       "      <th></th>\n",
       "      <th>uniprot</th>\n",
       "      <th>kegg</th>\n",
       "      <th>pdbs</th>\n",
       "      <th>sequence_file</th>\n",
       "      <th>metadata_file</th>\n",
       "    </tr>\n",
       "    <tr>\n",
       "      <th>gene</th>\n",
       "      <th></th>\n",
       "      <th></th>\n",
       "      <th></th>\n",
       "      <th></th>\n",
       "      <th></th>\n",
       "    </tr>\n",
       "  </thead>\n",
       "  <tbody>\n",
       "    <tr>\n",
       "      <th>10000__46__1</th>\n",
       "      <td>Q9Y243-1</td>\n",
       "      <td>hsa:10000</td>\n",
       "      <td>2X18</td>\n",
       "      <td>Q9Y243-1.fasta</td>\n",
       "      <td>Q9Y243-1.xml</td>\n",
       "    </tr>\n",
       "    <tr>\n",
       "      <th>10005__46__1</th>\n",
       "      <td>O14734-1</td>\n",
       "      <td>hsa:10005</td>\n",
       "      <td>NaN</td>\n",
       "      <td>O14734-1.fasta</td>\n",
       "      <td>O14734-1.xml</td>\n",
       "    </tr>\n",
       "    <tr>\n",
       "      <th>10007__46__1</th>\n",
       "      <td>P46926-1</td>\n",
       "      <td>hsa:10007</td>\n",
       "      <td>1NE7</td>\n",
       "      <td>P46926-1.fasta</td>\n",
       "      <td>P46926-1.xml</td>\n",
       "    </tr>\n",
       "    <tr>\n",
       "      <th>100137049__46__1</th>\n",
       "      <td>P0C869-1</td>\n",
       "      <td>hsa:100137049;hsa:8681</td>\n",
       "      <td>NaN</td>\n",
       "      <td>P0C869-1.fasta</td>\n",
       "      <td>P0C869-1.xml</td>\n",
       "    </tr>\n",
       "    <tr>\n",
       "      <th>10020__46__1</th>\n",
       "      <td>Q9Y223-1</td>\n",
       "      <td>hsa:10020</td>\n",
       "      <td>2YHW;2YHY;2YI1;3EO3;4ZHT</td>\n",
       "      <td>Q9Y223-1.fasta</td>\n",
       "      <td>Q9Y223-1.xml</td>\n",
       "    </tr>\n",
       "  </tbody>\n",
       "</table>\n",
       "</div>"
      ],
      "text/plain": [
       "                   uniprot                    kegg                      pdbs  \\\n",
       "gene                                                                           \n",
       "10000__46__1      Q9Y243-1               hsa:10000                      2X18   \n",
       "10005__46__1      O14734-1               hsa:10005                       NaN   \n",
       "10007__46__1      P46926-1               hsa:10007                      1NE7   \n",
       "100137049__46__1  P0C869-1  hsa:100137049;hsa:8681                       NaN   \n",
       "10020__46__1      Q9Y223-1               hsa:10020  2YHW;2YHY;2YI1;3EO3;4ZHT   \n",
       "\n",
       "                   sequence_file metadata_file  \n",
       "gene                                            \n",
       "10000__46__1      Q9Y243-1.fasta  Q9Y243-1.xml  \n",
       "10005__46__1      O14734-1.fasta  O14734-1.xml  \n",
       "10007__46__1      P46926-1.fasta  P46926-1.xml  \n",
       "100137049__46__1  P0C869-1.fasta  P0C869-1.xml  \n",
       "10020__46__1      Q9Y223-1.fasta  Q9Y223-1.xml  "
      ]
     },
     "execution_count": 6,
     "metadata": {},
     "output_type": "execute_result"
    }
   ],
   "source": [
    "# Summarize the sequences mapped to each protein\n",
    "Recon3D_GP.df_representative_sequences.head()"
   ]
  },
  {
   "cell_type": "code",
   "execution_count": 7,
   "metadata": {},
   "outputs": [
    {
     "data": {
      "text/html": [
       "<div>\n",
       "<style scoped>\n",
       "    .dataframe tbody tr th:only-of-type {\n",
       "        vertical-align: middle;\n",
       "    }\n",
       "\n",
       "    .dataframe tbody tr th {\n",
       "        vertical-align: top;\n",
       "    }\n",
       "\n",
       "    .dataframe thead th {\n",
       "        text-align: right;\n",
       "    }\n",
       "</style>\n",
       "<table border=\"1\" class=\"dataframe\">\n",
       "  <thead>\n",
       "    <tr style=\"text-align: right;\">\n",
       "      <th></th>\n",
       "      <th>id</th>\n",
       "      <th>is_experimental</th>\n",
       "      <th>file_type</th>\n",
       "      <th>structure_file</th>\n",
       "    </tr>\n",
       "    <tr>\n",
       "      <th>gene</th>\n",
       "      <th></th>\n",
       "      <th></th>\n",
       "      <th></th>\n",
       "      <th></th>\n",
       "    </tr>\n",
       "  </thead>\n",
       "  <tbody>\n",
       "    <tr>\n",
       "      <th>10000__46__1</th>\n",
       "      <td>REP-H03080</td>\n",
       "      <td>False</td>\n",
       "      <td>pdb</td>\n",
       "      <td>NP_005456.1_model1_clean-X_clean.pdb</td>\n",
       "    </tr>\n",
       "    <tr>\n",
       "      <th>10005__46__1</th>\n",
       "      <td>REP-H28002</td>\n",
       "      <td>False</td>\n",
       "      <td>pdb</td>\n",
       "      <td>NP_005460.2_model1_clean-X_clean.pdb</td>\n",
       "    </tr>\n",
       "    <tr>\n",
       "      <th>10007__46__1</th>\n",
       "      <td>REP-1ne7</td>\n",
       "      <td>True</td>\n",
       "      <td>pdb</td>\n",
       "      <td>1ne7-A_clean.pdb</td>\n",
       "    </tr>\n",
       "    <tr>\n",
       "      <th>10026__46__1</th>\n",
       "      <td>REP-H01243</td>\n",
       "      <td>False</td>\n",
       "      <td>pdb</td>\n",
       "      <td>NP_005473.1_model1_clean-X_clean.pdb</td>\n",
       "    </tr>\n",
       "    <tr>\n",
       "      <th>10038__46__1</th>\n",
       "      <td>REP-H19990</td>\n",
       "      <td>False</td>\n",
       "      <td>pdb</td>\n",
       "      <td>NP_005475.2_model1_clean-X_clean.pdb</td>\n",
       "    </tr>\n",
       "  </tbody>\n",
       "</table>\n",
       "</div>"
      ],
      "text/plain": [
       "                      id  is_experimental file_type  \\\n",
       "gene                                                  \n",
       "10000__46__1  REP-H03080            False       pdb   \n",
       "10005__46__1  REP-H28002            False       pdb   \n",
       "10007__46__1    REP-1ne7             True       pdb   \n",
       "10026__46__1  REP-H01243            False       pdb   \n",
       "10038__46__1  REP-H19990            False       pdb   \n",
       "\n",
       "                                    structure_file  \n",
       "gene                                                \n",
       "10000__46__1  NP_005456.1_model1_clean-X_clean.pdb  \n",
       "10005__46__1  NP_005460.2_model1_clean-X_clean.pdb  \n",
       "10007__46__1                      1ne7-A_clean.pdb  \n",
       "10026__46__1  NP_005473.1_model1_clean-X_clean.pdb  \n",
       "10038__46__1  NP_005475.2_model1_clean-X_clean.pdb  "
      ]
     },
     "execution_count": 7,
     "metadata": {},
     "output_type": "execute_result"
    }
   ],
   "source": [
    "# Summarize the structures mapped to each protein\n",
    "Recon3D_GP.df_representative_structures.head()"
   ]
  },
  {
   "cell_type": "markdown",
   "metadata": {},
   "source": [
    "### Inspecting the content of one gene and its protein"
   ]
  },
  {
   "cell_type": "code",
   "execution_count": 8,
   "metadata": {},
   "outputs": [
    {
     "data": {
      "text/plain": [
       "<Protein 100__46__1 at 0x7fb459da0358>"
      ]
     },
     "execution_count": 8,
     "metadata": {},
     "output_type": "execute_result"
    }
   ],
   "source": [
    "# Looking at the content stored per gene\n",
    "my_protein = Recon3D_GP.genes.get_by_id('100__46__1').protein\n",
    "my_protein"
   ]
  },
  {
   "cell_type": "markdown",
   "metadata": {},
   "source": [
    "#### Protein sequences and structures"
   ]
  },
  {
   "cell_type": "code",
   "execution_count": 9,
   "metadata": {},
   "outputs": [
    {
     "data": {
      "text/plain": [
       "[UniProtProp(seq=Seq('MAQTPAFDKPKVELHVHLDGSIKPETILYYGRRRGIALPANTAEGLLNVIGMDK...QNL', SingleLetterAlphabet()), id='P00813-1', name='sp|P00813|ADA_HUMAN', description='Adenosine deaminase', dbxrefs=[])]"
      ]
     },
     "execution_count": 9,
     "metadata": {},
     "output_type": "execute_result"
    }
   ],
   "source": [
    "my_protein.sequences"
   ]
  },
  {
   "cell_type": "code",
   "execution_count": 10,
   "metadata": {},
   "outputs": [
    {
     "data": {
      "text/plain": [
       "[<StructProp H27942 at 0x7fb459dc1748>,\n",
       " <StructProp ENSP00000361965 at 0x7fb459dc17b8>,\n",
       " <PDBProp 3iar at 0x7fb459dada20>,\n",
       " <PDBProp 2bgn at 0x7fb459dc1780>,\n",
       " <PDBProp 1w1i at 0x7fb459dc19b0>,\n",
       " <PDBProp 1qxl at 0x7fb459dc1c88>,\n",
       " <PDBProp 1krm at 0x7fb459dc1fd0>,\n",
       " <PDBProp 2z7g at 0x7fb459dca160>,\n",
       " <PDBProp 2e1w at 0x7fb459dca278>,\n",
       " <PDBProp 1wxz at 0x7fb459dca390>,\n",
       " <PDBProp 1wxy at 0x7fb459dca4a8>,\n",
       " <PDBProp 1vfl at 0x7fb459dca5c0>,\n",
       " <PDBProp 1v7a at 0x7fb459dca6d8>,\n",
       " <PDBProp 1v79 at 0x7fb459dca7f0>,\n",
       " <PDBProp 1uml at 0x7fb459dca908>,\n",
       " <PDBProp 1o5r at 0x7fb459dcaa20>,\n",
       " <PDBProp 1ndz at 0x7fb459dcab38>,\n",
       " <PDBProp 1ndy at 0x7fb459dcac50>,\n",
       " <PDBProp 1ndw at 0x7fb459dcad68>,\n",
       " <PDBProp 1ndv at 0x7fb459dcae80>,\n",
       " <PDBProp 2ada at 0x7fb459dcaf98>,\n",
       " <PDBProp 3km8 at 0x7fb459dd80f0>,\n",
       " <StructProp REP-3iar at 0x7fb459dd8588>]"
      ]
     },
     "execution_count": 10,
     "metadata": {},
     "output_type": "execute_result"
    }
   ],
   "source": [
    "my_protein.structures"
   ]
  },
  {
   "cell_type": "markdown",
   "metadata": {},
   "source": [
    "## Viewing 3D structures"
   ]
  },
  {
   "cell_type": "code",
   "execution_count": 11,
   "metadata": {},
   "outputs": [
    {
     "data": {
      "application/vnd.jupyter.widget-view+json": {
       "model_id": "74000abeb3594982bde246776fa68b76",
       "version_major": 2,
       "version_minor": 0
      },
      "text/plain": [
       "A Jupyter Widget"
      ]
     },
     "metadata": {},
     "output_type": "display_data"
    }
   ],
   "source": [
    "# Downloading and displaying a structure\n",
    "my_protein.structures.get_by_id('2bgn').download_structure_file(outdir=my_protein.structure_dir, file_type='mmtf')\n",
    "my_protein.structures.get_by_id('2bgn').view_structure(recolor=False)"
   ]
  },
  {
   "cell_type": "code",
   "execution_count": 12,
   "metadata": {},
   "outputs": [
    {
     "data": {
      "application/vnd.jupyter.widget-view+json": {
       "model_id": "4d8eb731a1f94a83a58686ac5ac1af6a",
       "version_major": 2,
       "version_minor": 0
      },
      "text/plain": [
       "A Jupyter Widget"
      ]
     },
     "metadata": {},
     "output_type": "display_data"
    }
   ],
   "source": [
    "# Displaying the protein's representative structure (single chain)\n",
    "my_protein.representative_structure.view_structure(recolor=False)"
   ]
  },
  {
   "cell_type": "code",
   "execution_count": null,
   "metadata": {
    "collapsed": true
   },
   "outputs": [],
   "source": []
  }
 ],
 "metadata": {
  "anaconda-cloud": {},
  "kernelspec": {
   "display_name": "Python [default]",
   "language": "python",
   "name": "python3"
  },
  "language_info": {
   "codemirror_mode": {
    "name": "ipython",
    "version": 3
   },
   "file_extension": ".py",
   "mimetype": "text/x-python",
   "name": "python",
   "nbconvert_exporter": "python",
   "pygments_lexer": "ipython3",
   "version": "3.6.3"
  }
 },
 "nbformat": 4,
 "nbformat_minor": 1
}
