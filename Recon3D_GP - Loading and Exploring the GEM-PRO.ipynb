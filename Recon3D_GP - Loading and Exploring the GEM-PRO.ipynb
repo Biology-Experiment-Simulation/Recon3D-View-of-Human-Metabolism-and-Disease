{
 "cells": [
  {
   "cell_type": "markdown",
   "metadata": {},
   "source": [
    "# Recon3D_GP - Loading and Exploring the GEM-PRO\n",
    "\n",
    "This notebook guides you through loading the GEM-PRO model for **Recon3D_GP** and exploring the contents of it.\n",
    "\n",
    "### Requirements:\n",
    "- ``ssbio`` - installation instructions [here](http://ssbio.readthedocs.io/en/latest/#installation), documentation [here](http://ssbio.readthedocs.io/en/latest/index.html)\n",
    "\n",
    "### Quick start:\n",
    "\n",
    "##### Installation\n",
    "```bash\n",
    "pip install nglview\n",
    "pip install ssbio\n",
    "```\n",
    "\n",
    "##### Running the notebook\n",
    "\n",
    "1. Obtain one of these three items:\n",
    "    1. GitHub repository clone (`git clone https://github.com/SBRG/Recon3D`)\n",
    "    1. Lite GEM-PRO archive (`Recon3D_GP_archive-lite.tar.gz`)\n",
    "    1. GEM-PRO model (``Recon3D_GP.json.gz``)\n",
    "1. If A: just open this notebook and run it.\n",
    "1. If B: unzip the archive into the directory where this notebook is located.\n",
    "1. If C: create a folder where this notebook is located, named ``Recon3D_GP/model/`` and place ``Recon3D_GP.json.gz`` in it.\n",
    "1. Make sure your files are arranged like so:\n",
    "```\n",
    ".\n",
    "├── Recon3D_GP\n",
    "│   ├── data\n",
    "│   ├── genes\n",
    "│   ├── homology_models_raw\n",
    "│   └── model\n",
    "│       └── Recon3D_GP.json.gz\n",
    "├── Recon3D_GP - Loading and Exploring the GEM-PRO.ipynb\n",
    "└── Recon3D_GP - Updating the GEM-PRO.ipynb\n",
    "```\n",
    "1. Run this notebook!"
   ]
  },
  {
   "cell_type": "markdown",
   "metadata": {},
   "source": [
    "## Loading the GEM-PRO"
   ]
  },
  {
   "cell_type": "code",
   "execution_count": 1,
   "metadata": {
    "collapsed": false
   },
   "outputs": [
    {
     "name": "stderr",
     "output_type": "stream",
     "text": [
      "cobra/core/reaction.py:407 \u001b[1;31mUserWarning\u001b[0m: malformed gene_reaction_rule '((513.1 and 498.2 and 506.1 and 509.2 and 514.1) or (498.2 and 513.2 and 514.2 and 506.1 and 509.2) or (513.1 and 509.1 and 498.1 and 514.2 and 506.1) or (498.2 and 513.2 and 506.1 and 509.2 and 514.1) or (513.2 and 498.1 and 514.2 and 506.1 and 509.2) or (513.1 and 498.1 and 506.1 and 509.2 and 514.1) or (513.1 and 498.2 and 514.2 and 506.1 and 509.2) or (513.1 and 498.2 and 509.1 and 506.1 and 514.1) or (498.2 and 509.1 and 513.2 and 506.1 and 514.1) or (513.2 and 498.1 and 506.1 and 509.2 and 514.1) or (513.2 and 514.2 and 506.1 and 509.2 and 498.3) or (513.2 and 506.1 and 509.2 and 498.3 and 514.1) or (513.1 and 509.1 and 506.1 and 498.3 and 514.1) or (509.1 and 513.2 and 514.2 and 506.1 and 498.3) or (513.1 and 498.2 and 509.1 and 514.2 and 506.1) or (513.1 and 498.1 and 514.2 and 506.1 and 509.2) or (513.1 and 509.1 and 498.1 and 506.1 and 514.1) or (513.1 and 506.1 and 509.2 and 498.3 and 514.1) or (509.1 and 513.2 and 506.1 and 498.3 and 514.1) or (513.1 and 514.2 and 506.1 and 509.2 and 498.3) or (509.1 and 513.2 and 498.1 and 506.1 and 514.1) or (513.1 and 509.1 and 514.2 and 506.1 and 498.3) or (498.2 and 509.1 and 513.2 and 514.2 and 506.1) or (509.1 and 513.2 and 498.1 and 514.2 and 506.1)) and ((10632.1 and 4905.1 and 10476.1 and 9551.3 and 522.5 and 516.2 and 521.1 and 515.1) or (518.3 and 4905.1 and 515.2 and 10476.2 and 521.1 and 10632.1 and 9551.3 and 522.3) or (4905.1 and 515.2 and 10476.2 and 521.1 and 10632.1 and 517.2 and 9551.2 and 522.3) or (10632.1 and 4905.1 and 10476.1 and 522.5 and 9551.2 and 518.2 and 521.1 and 515.1) or (4905.1 and 515.2 and 10476.2 and 516.2 and 521.1 and 10632.1 and 9551.3 and 522.5) or (518.3 and 4905.1 and 9551.1 and 515.2 and 10476.2 and 521.1 and 10632.1 and 522.4) or (10632.1 and 4905.1 and 10476.1 and 9551.1 and 522.2 and 515.2 and 518.2 and 521.1) or (518.3 and 10632.1 and 4905.1 and 10476.1 and 515.3 and 9551.2 and 522.4 and 521.1) or (10632.1 and 4905.1 and 10476.1 and 515.3 and 522.2 and 9551.3 and 518.2 and 521.1) or (4905.1 and 9551.1 and 10476.2 and 522.1 and 516.2 and 521.1 and 515.1 and 10632.1) or (10632.1 and 517.1 and 4905.1 and 10476.1 and 522.1 and 9551.2 and 521.1 and 515.1) or (10632.1 and 4905.1 and 10476.1 and 9551.3 and 515.2 and 522.5 and 518.2 and 521.1) or (10632.1 and 4905.1 and 516.1 and 9551.1 and 515.2 and 10476.2 and 522.3 and 521.1) or (10632.1 and 4905.1 and 10476.1 and 9551.1 and 518.2 and 522.4 and 521.1 and 515.1) or (4905.1 and 10476.2 and 521.1 and 515.1 and 10632.1 and 9551.3 and 522.5 and 518.2) or (4905.1 and 9551.1 and 515.2 and 10476.2 and 516.2 and 521.1 and 10632.1 and 522.3) or (10632.1 and 4905.1 and 516.1 and 10476.1 and 9551.1 and 522.3 and 521.1 and 515.1) or (4905.1 and 10476.2 and 521.1 and 515.1 and 10632.1 and 522.5 and 518.2 and 9551.2) or (4905.1 and 9551.1 and 10476.2 and 521.1 and 515.1 and 10632.1 and 518.2 and 522.3) or (10632.1 and 517.1 and 4905.1 and 10476.1 and 9551.3 and 515.2 and 522.4 and 521.1) or (4905.1 and 10476.2 and 522.1 and 521.1 and 515.1 and 10632.1 and 518.2 and 9551.2) or (4905.1 and 522.2 and 515.2 and 10476.2 and 521.1 and 10632.1 and 517.2 and 9551.2) or (10632.1 and 517.1 and 4905.1 and 10476.1 and 9551.1 and 522.4 and 521.1 and 515.1) or (518.3 and 4905.1 and 515.3 and 10476.2 and 521.1 and 10632.1 and 9551.3 and 522.4) or (10632.1 and 4905.1 and 10476.1 and 515.3 and 522.1 and 9551.2 and 518.2 and 521.1) or (4905.1 and 9551.1 and 515.2 and 10476.2 and 521.1 and 10632.1 and 517.2 and 522.5) or (4905.1 and 10476.2 and 516.2 and 521.1 and 515.1 and 10632.1 and 9551.3 and 522.3) or (518.3 and 10632.1 and 4905.1 and 10476.1 and 9551.1 and 515.3 and 522.1 and 521.1) or (10632.1 and 4905.1 and 516.1 and 9551.3 and 10476.2 and 522.1 and 521.1 and 515.1) or (4905.1 and 515.3 and 522.2 and 10476.2 and 516.2 and 521.1 and 10632.1 and 9551.3) or (4905.1 and 9551.1 and 515.2 and 10476.2 and 521.1 and 518.1 and 10632.1 and 522.4) or (10632.1 and 517.1 and 4905.1 and 10476.1 and 9551.1 and 515.2 and 522.5 and 521.1) or (10632.1 and 4905.1 and 516.1 and 515.3 and 10476.2 and 9551.2 and 522.4 and 521.1) or (10632.1 and 4905.1 and 10476.1 and 517.2 and 515.2 and 522.1 and 9551.2 and 521.1) or (10632.1 and 4905.1 and 516.1 and 10476.1 and 9551.3 and 522.3 and 521.1 and 515.1) or (4905.1 and 10476.2 and 521.1 and 518.1 and 515.1 and 10632.1 and 9551.3 and 522.3) or (517.1 and 4905.1 and 9551.1 and 515.2 and 10476.2 and 521.1 and 10632.1 and 522.3) or (4905.1 and 9551.1 and 515.3 and 10476.2 and 521.1 and 10632.1 and 518.2 and 522.3) or (518.3 and 10632.1 and 4905.1 and 10476.1 and 9551.1 and 522.2 and 515.2 and 521.1) or (4905.1 and 515.3 and 10476.2 and 522.1 and 521.1 and 10632.1 and 518.2 and 9551.2) or (10632.1 and 4905.1 and 10476.1 and 522.2 and 515.2 and 9551.2 and 518.2 and 521.1) or (4905.1 and 515.3 and 522.2 and 10476.2 and 521.1 and 518.1 and 10632.1 and 9551.2) or (4905.1 and 515.2 and 10476.2 and 521.1 and 518.1 and 10632.1 and 9551.2 and 522.3) or (4905.1 and 522.2 and 10476.2 and 516.2 and 521.1 and 515.1 and 10632.1 and 9551.3) or (10632.1 and 4905.1 and 516.1 and 10476.1 and 515.3 and 522.5 and 9551.2 and 521.1) or (10632.1 and 4905.1 and 10476.1 and 515.3 and 522.2 and 9551.3 and 516.2 and 521.1) or (518.3 and 4905.1 and 515.2 and 10476.2 and 521.1 and 10632.1 and 9551.3 and 522.5) or (10632.1 and 4905.1 and 10476.1 and 9551.1 and 522.4 and 516.2 and 521.1 and 515.1) or (10632.1 and 4905.1 and 516.1 and 10476.1 and 9551.1 and 522.2 and 515.2 and 521.1) or (10632.1 and 4905.1 and 10476.1 and 9551.3 and 522.5 and 521.1 and 518.1 and 515.1) or (10632.1 and 517.1 and 4905.1 and 10476.1 and 515.3 and 522.2 and 9551.2 and 521.1) or (10632.1 and 517.1 and 4905.1 and 10476.1 and 522.2 and 9551.3 and 515.2 and 521.1) or (10632.1 and 4905.1 and 516.1 and 522.2 and 515.2 and 10476.2 and 9551.2 and 521.1) or (10632.1 and 4905.1 and 516.1 and 10476.1 and 515.3 and 522.1 and 9551.2 and 521.1) or (10632.1 and 4905.1 and 10476.1 and 9551.1 and 517.2 and 515.2 and 522.5 and 521.1) or (4905.1 and 515.3 and 10476.2 and 521.1 and 10632.1 and 9551.3 and 522.4 and 518.2) or (10632.1 and 4905.1 and 516.1 and 9551.1 and 515.3 and 10476.2 and 522.1 and 521.1) or (10632.1 and 4905.1 and 10476.1 and 515.2 and 522.5 and 9551.2 and 521.1 and 518.1) or (10632.1 and 4905.1 and 10476.1 and 9551.1 and 522.2 and 515.2 and 516.2 and 521.1) or (4905.1 and 515.3 and 10476.2 and 522.1 and 521.1 and 10632.1 and 517.2 and 9551.3) or (518.3 and 4905.1 and 515.2 and 10476.2 and 521.1 and 10632.1 and 522.5 and 9551.2) or (4905.1 and 10476.2 and 521.1 and 515.1 and 10632.1 and 517.2 and 9551.2 and 522.3) or (10632.1 and 517.1 and 4905.1 and 10476.1 and 9551.1 and 515.3 and 522.5 and 521.1) or (517.1 and 4905.1 and 9551.1 and 10476.2 and 521.1 and 515.1 and 10632.1 and 522.5) or (10632.1 and 4905.1 and 10476.1 and 9551.3 and 517.2 and 515.2 and 522.4 and 521.1) or (10632.1 and 4905.1 and 10476.1 and 515.3 and 9551.3 and 522.1 and 516.2 and 521.1) or (518.3 and 10632.1 and 4905.1 and 10476.1 and 515.3 and 9551.3 and 522.5 and 521.1) or (4905.1 and 522.2 and 515.2 and 10476.2 and 521.1 and 10632.1 and 9551.3 and 518.2) or (518.3 and 4905.1 and 10476.2 and 521.1 and 515.1 and 10632.1 and 9551.2 and 522.3) or (517.1 and 4905.1 and 515.2 and 10476.2 and 521.1 and 10632.1 and 522.4 and 9551.2) or (10632.1 and 4905.1 and 10476.1 and 9551.1 and 515.3 and 522.1 and 516.2 and 521.1) or (4905.1 and 10476.2 and 516.2 and 521.1 and 515.1 and 10632.1 and 522.5 and 9551.2) or (518.3 and 4905.1 and 9551.1 and 515.3 and 10476.2 and 521.1 and 10632.1 and 522.3) or (517.1 and 4905.1 and 515.2 and 10476.2 and 521.1 and 10632.1 and 9551.3 and 522.4) or (4905.1 and 515.2 and 10476.2 and 521.1 and 10632.1 and 9551.3 and 522.4 and 518.2) or (10632.1 and 4905.1 and 10476.1 and 9551.1 and 515.2 and 522.4 and 521.1 and 518.1) or (518.3 and 4905.1 and 522.2 and 10476.2 and 521.1 and 515.1 and 10632.1 and 9551.2) or (10632.1 and 4905.1 and 10476.1 and 515.3 and 9551.3 and 522.4 and 516.2 and 521.1) or (10632.1 and 4905.1 and 10476.1 and 522.2 and 9551.3 and 517.2 and 515.2 and 521.1) or (10632.1 and 4905.1 and 516.1 and 10476.1 and 9551.2 and 522.4 and 521.1 and 515.1) or (4905.1 and 515.3 and 10476.2 and 521.1 and 10632.1 and 517.2 and 9551.3 and 522.4) or (4905.1 and 9551.1 and 522.2 and 515.2 and 10476.2 and 516.2 and 521.1 and 10632.1) or (4905.1 and 522.2 and 10476.2 and 521.1 and 515.1 and 10632.1 and 9551.3 and 518.2) or (518.3 and 4905.1 and 9551.1 and 515.2 and 10476.2 and 521.1 and 10632.1 and 522.5) or (10632.1 and 517.1 and 4905.1 and 10476.1 and 522.2 and 9551.3 and 521.1 and 515.1) or (4905.1 and 9551.1 and 10476.2 and 521.1 and 515.1 and 10632.1 and 522.5 and 518.2) or (10632.1 and 4905.1 and 10476.1 and 9551.1 and 515.3 and 522.5 and 518.2 and 521.1) or (10632.1 and 4905.1 and 10476.1 and 9551.1 and 515.2 and 522.4 and 516.2 and 521.1) or (10632.1 and 517.1 and 4905.1 and 10476.1 and 515.3 and 9551.3 and 522.5 and 521.1) or (518.3 and 10632.1 and 4905.1 and 10476.1 and 9551.1 and 515.3 and 522.2 and 521.1) or (10632.1 and 4905.1 and 10476.1 and 522.2 and 9551.2 and 521.1 and 518.1 and 515.1) or (517.1 and 4905.1 and 10476.2 and 522.1 and 521.1 and 515.1 and 10632.1 and 9551.2) or (517.1 and 4905.1 and 9551.1 and 515.3 and 522.2 and 10476.2 and 521.1 and 10632.1) or (518.3 and 4905.1 and 10476.2 and 521.1 and 515.1 and 10632.1 and 522.5 and 9551.2) or (4905.1 and 522.2 and 515.2 and 10476.2 and 521.1 and 518.1 and 10632.1 and 9551.2) or (4905.1 and 522.2 and 10476.2 and 521.1 and 518.1 and 515.1 and 10632.1 and 9551.3) or (10632.1 and 4905.1 and 10476.1 and 9551.3 and 518.2 and 522.4 and 521.1 and 515.1) or (10632.1 and 4905.1 and 516.1 and 522.2 and 10476.2 and 9551.2 and 521.1 and 515.1) or (10632.1 and 4905.1 and 10476.1 and 515.3 and 9551.2 and 516.2 and 522.3 and 521.1) or (10632.1 and 4905.1 and 10476.1 and 522.2 and 9551.3 and 521.1 and 518.1 and 515.1) or (518.3 and 10632.1 and 4905.1 and 10476.1 and 9551.3 and 515.2 and 522.4 and 521.1) or (10632.1 and 4905.1 and 516.1 and 515.3 and 10476.2 and 9551.2 and 522.3 and 521.1) or (10632.1 and 4905.1 and 10476.1 and 9551.3 and 515.2 and 516.2 and 522.3 and 521.1) or (4905.1 and 9551.1 and 10476.2 and 521.1 and 515.1 and 10632.1 and 522.4 and 518.2) or (4905.1 and 515.3 and 10476.2 and 521.1 and 10632.1 and 518.2 and 9551.2 and 522.3) or (10632.1 and 517.1 and 4905.1 and 10476.1 and 9551.1 and 522.5 and 521.1 and 515.1) or (10632.1 and 4905.1 and 10476.1 and 515.3 and 522.1 and 9551.2 and 521.1 and 518.1) or (518.3 and 4905.1 and 9551.1 and 522.2 and 10476.2 and 521.1 and 515.1 and 10632.1) or (4905.1 and 515.3 and 522.2 and 10476.2 and 521.1 and 10632.1 and 518.2 and 9551.2) or (10632.1 and 4905.1 and 10476.1 and 9551.1 and 522.5 and 518.2 and 521.1 and 515.1) or (518.3 and 10632.1 and 4905.1 and 10476.1 and 515.2 and 9551.2 and 522.3 and 521.1) or (10632.1 and 4905.1 and 516.1 and 10476.2 and 522.1 and 9551.2 and 521.1 and 515.1) or (4905.1 and 9551.1 and 515.2 and 10476.2 and 521.1 and 10632.1 and 518.2 and 522.3) or (10632.1 and 4905.1 and 10476.1 and 515.2 and 9551.2 and 518.2 and 522.3 and 521.1) or (10632.1 and 4905.1 and 10476.1 and 9551.3 and 522.1 and 518.2 and 521.1 and 515.1) or (10632.1 and 4905.1 and 516.1 and 522.2 and 9551.3 and 10476.2 and 521.1 and 515.1) or (517.1 and 4905.1 and 515.2 and 10476.2 and 521.1 and 10632.1 and 9551.2 and 522.3) or (10632.1 and 517.1 and 4905.1 and 10476.1 and 9551.3 and 515.2 and 522.5 and 521.1) or (4905.1 and 515.2 and 10476.2 and 521.1 and 10632.1 and 517.2 and 9551.3 and 522.5) or (4905.1 and 515.2 and 10476.2 and 521.1 and 518.1 and 10632.1 and 522.5 and 9551.2) or (10632.1 and 4905.1 and 10476.1 and 9551.3 and 522.4 and 516.2 and 521.1 and 515.1) or (10632.1 and 4905.1 and 10476.1 and 9551.3 and 522.4 and 521.1 and 518.1 and 515.1) or (10632.1 and 4905.1 and 10476.1 and 9551.1 and 517.2 and 515.2 and 522.3 and 521.1) or (4905.1 and 515.3 and 10476.2 and 521.1 and 518.1 and 10632.1 and 9551.2 and 522.3) or (10632.1 and 4905.1 and 10476.1 and 515.2 and 522.1 and 9551.2 and 521.1 and 518.1) or (10632.1 and 4905.1 and 516.1 and 10476.1 and 9551.3 and 515.2 and 522.4 and 521.1) or (10632.1 and 4905.1 and 10476.1 and 9551.1 and 522.2 and 521.1 and 518.1 and 515.1) or (10632.1 and 4905.1 and 10476.1 and 9551.1 and 515.3 and 517.2 and 522.1 and 521.1) or (4905.1 and 10476.2 and 516.2 and 521.1 and 515.1 and 10632.1 and 9551.3 and 522.4) or (10632.1 and 517.1 and 4905.1 and 10476.1 and 515.3 and 9551.2 and 522.3 and 521.1) or (518.3 and 4905.1 and 515.3 and 10476.2 and 522.1 and 521.1 and 10632.1 and 9551.2) or (4905.1 and 9551.1 and 515.3 and 10476.2 and 521.1 and 518.1 and 10632.1 and 522.5) or (4905.1 and 10476.2 and 516.2 and 521.1 and 515.1 and 10632.1 and 9551.2 and 522.3) or (4905.1 and 9551.1 and 515.3 and 10476.2 and 516.2 and 521.1 and 10632.1 and 522.4) or (10632.1 and 4905.1 and 516.1 and 10476.1 and 9551.3 and 515.2 and 522.3 and 521.1) or (10632.1 and 4905.1 and 516.1 and 10476.1 and 515.3 and 522.2 and 9551.2 and 521.1) or (518.3 and 4905.1 and 9551.1 and 522.2 and 515.2 and 10476.2 and 521.1 and 10632.1) or (10632.1 and 4905.1 and 10476.1 and 9551.3 and 522.3 and 521.1 and 518.1 and 515.1) or (10632.1 and 4905.1 and 516.1 and 10476.1 and 515.3 and 9551.3 and 522.5 and 521.1) or (10632.1 and 4905.1 and 10476.1 and 515.3 and 9551.2 and 522.4 and 516.2 and 521.1) or (518.3 and 10632.1 and 4905.1 and 10476.1 and 9551.1 and 515.2 and 522.1 and 521.1) or (10632.1 and 4905.1 and 10476.1 and 515.3 and 9551.3 and 522.1 and 521.1 and 518.1) or (4905.1 and 515.3 and 522.2 and 10476.2 and 521.1 and 10632.1 and 517.2 and 9551.3) or (518.3 and 4905.1 and 515.2 and 10476.2 and 522.1 and 521.1 and 10632.1 and 9551.2) or (517.1 and 4905.1 and 9551.1 and 522.2 and 515.2 and 10476.2 and 521.1 and 10632.1) or (10632.1 and 517.1 and 4905.1 and 10476.1 and 522.2 and 9551.2 and 521.1 and 515.1) or (4905.1 and 9551.1 and 515.3 and 10476.2 and 521.1 and 518.1 and 10632.1 and 522.4) or (10632.1 and 4905.1 and 10476.1 and 515.3 and 9551.3 and 522.5 and 516.2 and 521.1) or (517.1 and 4905.1 and 515.3 and 10476.2 and 521.1 and 10632.1 and 522.5 and 9551.2) or (10632.1 and 4905.1 and 10476.1 and 9551.1 and 515.2 and 522.1 and 516.2 and 521.1) or (10632.1 and 4905.1 and 516.1 and 10476.1 and 9551.1 and 515.2 and 522.3 and 521.1) or (10632.1 and 4905.1 and 10476.1 and 9551.1 and 517.2 and 522.1 and 521.1 and 515.1) or (518.3 and 4905.1 and 515.3 and 10476.2 and 521.1 and 10632.1 and 522.4 and 9551.2) or (10632.1 and 4905.1 and 10476.1 and 9551.1 and 517.2 and 522.3 and 521.1 and 515.1) or (4905.1 and 515.2 and 10476.2 and 516.2 and 521.1 and 10632.1 and 9551.3 and 522.4) or (10632.1 and 4905.1 and 10476.1 and 9551.1 and 515.2 and 522.3 and 521.1 and 518.1) or (10632.1 and 4905.1 and 10476.1 and 9551.3 and 517.2 and 515.2 and 522.3 and 521.1) or (4905.1 and 10476.2 and 522.1 and 521.1 and 515.1 and 10632.1 and 517.2 and 9551.3) or (10632.1 and 517.1 and 4905.1 and 10476.1 and 515.3 and 522.1 and 9551.2 and 521.1) or (10632.1 and 4905.1 and 10476.1 and 515.3 and 522.2 and 9551.3 and 521.1 and 518.1) or (10632.1 and 4905.1 and 10476.1 and 9551.1 and 518.2 and 522.3 and 521.1 and 515.1) or (10632.1 and 517.1 and 4905.1 and 10476.1 and 522.2 and 515.2 and 9551.2 and 521.1) or (4905.1 and 515.2 and 10476.2 and 521.1 and 10632.1 and 522.5 and 518.2 and 9551.2) or (10632.1 and 4905.1 and 10476.1 and 522.2 and 9551.3 and 515.2 and 521.1 and 518.1) or (4905.1 and 10476.2 and 521.1 and 515.1 and 10632.1 and 518.2 and 9551.2 and 522.3) or (4905.1 and 10476.2 and 516.2 and 521.1 and 515.1 and 10632.1 and 522.4 and 9551.2) or (10632.1 and 4905.1 and 10476.1 and 515.3 and 522.2 and 9551.2 and 521.1 and 518.1) or (10632.1 and 4905.1 and 10476.1 and 515.3 and 517.2 and 522.1 and 9551.2 and 521.1) or (518.3 and 4905.1 and 10476.2 and 521.1 and 515.1 and 10632.1 and 9551.3 and 522.5) or (10632.1 and 4905.1 and 516.1 and 515.2 and 10476.2 and 522.5 and 9551.2 and 521.1) or (517.1 and 4905.1 and 522.2 and 515.2 and 10476.2 and 521.1 and 10632.1 and 9551.2) or (10632.1 and 4905.1 and 10476.1 and 522.2 and 9551.3 and 518.2 and 521.1 and 515.1) or (4905.1 and 515.2 and 10476.2 and 516.2 and 521.1 and 10632.1 and 522.4 and 9551.2) or (518.3 and 4905.1 and 9551.1 and 515.3 and 522.2 and 10476.2 and 521.1 and 10632.1) or (10632.1 and 4905.1 and 10476.1 and 515.3 and 522.5 and 9551.2 and 518.2 and 521.1) or (10632.1 and 4905.1 and 516.1 and 10476.1 and 9551.3 and 522.1 and 521.1 and 515.1) or (4905.1 and 9551.1 and 515.2 and 10476.2 and 521.1 and 10632.1 and 517.2 and 522.3) or (10632.1 and 4905.1 and 10476.1 and 515.3 and 9551.3 and 517.2 and 522.3 and 521.1) or (10632.1 and 4905.1 and 10476.1 and 9551.1 and 515.3 and 522.2 and 516.2 and 521.1) or (10632.1 and 517.1 and 4905.1 and 10476.1 and 9551.2 and 522.3 and 521.1 and 515.1) or (10632.1 and 4905.1 and 516.1 and 9551.1 and 10476.2 and 522.5 and 521.1 and 515.1) or (4905.1 and 522.2 and 10476.2 and 521.1 and 515.1 and 10632.1 and 517.2 and 9551.3) or (10632.1 and 4905.1 and 10476.1 and 9551.3 and 517.2 and 515.2 and 522.1 and 521.1) or (518.3 and 10632.1 and 4905.1 and 10476.1 and 515.2 and 522.5 and 9551.2 and 521.1) or (10632.1 and 4905.1 and 516.1 and 515.3 and 522.2 and 10476.2 and 9551.2 and 521.1) or (10632.1 and 4905.1 and 10476.1 and 9551.3 and 516.2 and 522.3 and 521.1 and 515.1) or (518.3 and 10632.1 and 4905.1 and 10476.1 and 9551.1 and 522.5 and 521.1 and 515.1) or (4905.1 and 515.3 and 10476.2 and 521.1 and 10632.1 and 517.2 and 9551.3 and 522.3) or (518.3 and 10632.1 and 4905.1 and 10476.1 and 522.2 and 9551.3 and 521.1 and 515.1) or (10632.1 and 4905.1 and 10476.1 and 9551.2 and 518.2 and 522.3 and 521.1 and 515.1) or (10632.1 and 4905.1 and 10476.1 and 515.2 and 9551.2 and 518.2 and 522.4 and 521.1) or (10632.1 and 4905.1 and 10476.1 and 522.5 and 9551.2 and 521.1 and 518.1 and 515.1) or (10632.1 and 4905.1 and 10476.1 and 9551.1 and 515.3 and 522.5 and 521.1 and 518.1) or (4905.1 and 515.3 and 10476.2 and 521.1 and 10632.1 and 9551.3 and 522.5 and 518.2) or (4905.1 and 9551.1 and 515.3 and 10476.2 and 522.1 and 521.1 and 10632.1 and 517.2) or (10632.1 and 4905.1 and 516.1 and 10476.1 and 9551.1 and 522.1 and 521.1 and 515.1) or (4905.1 and 515.2 and 10476.2 and 522.1 and 516.2 and 521.1 and 10632.1 and 9551.2) or (10632.1 and 4905.1 and 516.1 and 10476.1 and 515.3 and 9551.2 and 522.4 and 521.1) or (10632.1 and 4905.1 and 10476.1 and 9551.1 and 522.2 and 517.2 and 521.1 and 515.1) or (10632.1 and 4905.1 and 516.1 and 10476.1 and 515.3 and 9551.2 and 522.3 and 521.1) or (4905.1 and 515.2 and 10476.2 and 522.1 and 521.1 and 518.1 and 10632.1 and 9551.2) or (4905.1 and 10476.2 and 521.1 and 518.1 and 515.1 and 10632.1 and 9551.3 and 522.4) or (10632.1 and 4905.1 and 516.1 and 10476.1 and 9551.1 and 522.5 and 521.1 and 515.1) or (4905.1 and 515.3 and 522.2 and 10476.2 and 521.1 and 10632.1 and 9551.3 and 518.2) or (10632.1 and 4905.1 and 10476.1 and 517.2 and 515.2 and 9551.2 and 522.3 and 521.1) or (4905.1 and 10476.2 and 521.1 and 518.1 and 515.1 and 10632.1 and 522.4 and 9551.2) or (10632.1 and 4905.1 and 10476.1 and 9551.3 and 515.2 and 518.2 and 522.3 and 521.1) or (518.3 and 10632.1 and 4905.1 and 10476.1 and 9551.3 and 515.2 and 522.1 and 521.1) or (10632.1 and 4905.1 and 10476.1 and 515.3 and 9551.3 and 518.2 and 522.4 and 521.1) or (517.1 and 4905.1 and 9551.1 and 10476.2 and 522.1 and 521.1 and 515.1 and 10632.1) or (10632.1 and 4905.1 and 10476.1 and 9551.1 and 515.3 and 518.2 and 522.4 and 521.1) or (4905.1 and 515.2 and 10476.2 and 521.1 and 518.1 and 10632.1 and 9551.3 and 522.5) or (518.3 and 10632.1 and 4905.1 and 10476.1 and 9551.3 and 515.2 and 522.3 and 521.1) or (10632.1 and 4905.1 and 10476.1 and 9551.1 and 522.1 and 516.2 and 521.1 and 515.1) or (10632.1 and 4905.1 and 10476.1 and 9551.3 and 515.2 and 522.5 and 516.2 and 521.1) or (4905.1 and 515.3 and 10476.2 and 516.2 and 521.1 and 10632.1 and 522.5 and 9551.2) or (10632.1 and 4905.1 and 10476.1 and 9551.3 and 515.2 and 522.1 and 516.2 and 521.1) or (10632.1 and 517.1 and 4905.1 and 10476.1 and 9551.3 and 522.4 and 521.1 and 515.1) or (10632.1 and 4905.1 and 10476.1 and 9551.3 and 518.2 and 522.3 and 521.1 and 515.1) or (10632.1 and 4905.1 and 10476.1 and 9551.1 and 515.3 and 517.2 and 522.3 and 521.1) or (10632.1 and 4905.1 and 10476.1 and 9551.3 and 517.2 and 522.3 and 521.1 and 515.1) or (10632.1 and 4905.1 and 10476.1 and 515.2 and 522.5 and 9551.2 and 518.2 and 521.1) or (10632.1 and 517.1 and 4905.1 and 10476.1 and 515.2 and 522.1 and 9551.2 and 521.1) or (518.3 and 10632.1 and 4905.1 and 10476.1 and 9551.1 and 515.3 and 522.3 and 521.1) or (518.3 and 4905.1 and 522.2 and 515.2 and 10476.2 and 521.1 and 10632.1 and 9551.3) or (4905.1 and 10476.2 and 521.1 and 518.1 and 515.1 and 10632.1 and 9551.2 and 522.3) or (517.1 and 4905.1 and 515.3 and 522.2 and 10476.2 and 521.1 and 10632.1 and 9551.2) or (10632.1 and 4905.1 and 516.1 and 9551.3 and 10476.2 and 522.3 and 521.1 and 515.1) or (518.3 and 4905.1 and 9551.1 and 515.3 and 10476.2 and 521.1 and 10632.1 and 522.5) or (4905.1 and 9551.1 and 515.3 and 10476.2 and 521.1 and 10632.1 and 517.2 and 522.5) or (10632.1 and 4905.1 and 516.1 and 9551.3 and 515.2 and 10476.2 and 522.5 and 521.1) or (10632.1 and 4905.1 and 516.1 and 9551.1 and 515.2 and 10476.2 and 522.1 and 521.1) or (10632.1 and 4905.1 and 516.1 and 10476.1 and 9551.1 and 515.2 and 522.5 and 521.1) or (518.3 and 4905.1 and 9551.1 and 10476.2 and 521.1 and 515.1 and 10632.1 and 522.5) or (517.1 and 4905.1 and 515.3 and 522.2 and 10476.2 and 521.1 and 10632.1 and 9551.3) or (518.3 and 4905.1 and 515.3 and 10476.2 and 521.1 and 10632.1 and 9551.2 and 522.3) or (4905.1 and 10476.2 and 516.2 and 521.1 and 515.1 and 10632.1 and 9551.3 and 522.5) or (10632.1 and 4905.1 and 516.1 and 515.2 and 10476.2 and 9551.2 and 522.4 and 521.1) or (4905.1 and 515.2 and 10476.2 and 521.1 and 10632.1 and 517.2 and 522.4 and 9551.2) or (4905.1 and 10476.2 and 521.1 and 518.1 and 515.1 and 10632.1 and 522.5 and 9551.2) or (517.1 and 4905.1 and 515.2 and 10476.2 and 521.1 and 10632.1 and 9551.3 and 522.3) or (4905.1 and 9551.1 and 522.2 and 515.2 and 10476.2 and 521.1 and 10632.1 and 517.2) or (4905.1 and 515.3 and 10476.2 and 516.2 and 521.1 and 10632.1 and 9551.3 and 522.3) or (4905.1 and 515.2 and 10476.2 and 521.1 and 10632.1 and 9551.3 and 522.5 and 518.2) or (4905.1 and 522.2 and 10476.2 and 516.2 and 521.1 and 515.1 and 10632.1 and 9551.2) or (10632.1 and 4905.1 and 516.1 and 10476.1 and 522.2 and 9551.3 and 521.1 and 515.1) or (10632.1 and 4905.1 and 10476.1 and 9551.1 and 515.2 and 518.2 and 522.3 and 521.1) or (10632.1 and 4905.1 and 516.1 and 10476.1 and 522.2 and 515.2 and 9551.2 and 521.1) or (10632.1 and 4905.1 and 10476.1 and 9551.1 and 515.3 and 517.2 and 522.5 and 521.1) or (517.1 and 4905.1 and 515.3 and 10476.2 and 522.1 and 521.1 and 10632.1 and 9551.3) or (10632.1 and 4905.1 and 516.1 and 9551.1 and 10476.2 and 522.4 and 521.1 and 515.1) or (518.3 and 10632.1 and 4905.1 and 10476.1 and 515.3 and 522.5 and 9551.2 and 521.1) or (10632.1 and 4905.1 and 10476.1 and 515.2 and 522.1 and 9551.2 and 516.2 and 521.1) or (518.3 and 10632.1 and 4905.1 and 10476.1 and 515.2 and 9551.2 and 522.4 and 521.1) or (517.1 and 4905.1 and 10476.2 and 521.1 and 515.1 and 10632.1 and 9551.3 and 522.5) or (10632.1 and 4905.1 and 10476.1 and 522.2 and 9551.3 and 516.2 and 521.1 and 515.1) or (4905.1 and 10476.2 and 521.1 and 515.1 and 10632.1 and 9551.3 and 522.4 and 518.2) or (10632.1 and 4905.1 and 10476.1 and 9551.3 and 522.1 and 521.1 and 518.1 and 515.1) or (10632.1 and 517.1 and 4905.1 and 10476.1 and 9551.1 and 515.3 and 522.3 and 521.1) or (518.3 and 10632.1 and 4905.1 and 10476.1 and 9551.3 and 522.4 and 521.1 and 515.1) or (4905.1 and 515.3 and 10476.2 and 522.1 and 516.2 and 521.1 and 10632.1 and 9551.3) or (10632.1 and 4905.1 and 10476.1 and 515.3 and 9551.3 and 522.1 and 518.2 and 521.1) or (10632.1 and 4905.1 and 516.1 and 10476.1 and 515.3 and 9551.3 and 522.3 and 521.1) or (10632.1 and 517.1 and 4905.1 and 10476.1 and 9551.1 and 515.2 and 522.1 and 521.1) or (10632.1 and 4905.1 and 10476.1 and 9551.1 and 515.3 and 517.2 and 522.4 and 521.1) or (4905.1 and 9551.1 and 515.3 and 522.2 and 10476.2 and 516.2 and 521.1 and 10632.1) or (10632.1 and 4905.1 and 516.1 and 515.2 and 10476.2 and 522.1 and 9551.2 and 521.1) or (10632.1 and 4905.1 and 10476.1 and 515.2 and 9551.2 and 522.4 and 521.1 and 518.1) or (518.3 and 10632.1 and 4905.1 and 10476.1 and 515.3 and 9551.3 and 522.1 and 521.1) or (10632.1 and 4905.1 and 10476.1 and 517.2 and 522.1 and 9551.2 and 521.1 and 515.1) or (10632.1 and 4905.1 and 516.1 and 9551.1 and 515.2 and 10476.2 and 522.5 and 521.1) or (10632.1 and 4905.1 and 516.1 and 9551.1 and 515.2 and 10476.2 and 522.4 and 521.1) or (10632.1 and 4905.1 and 10476.1 and 9551.3 and 517.2 and 522.1 and 521.1 and 515.1) or (10632.1 and 4905.1 and 10476.1 and 9551.3 and 515.2 and 522.1 and 521.1 and 518.1) or (518.3 and 10632.1 and 4905.1 and 10476.1 and 9551.3 and 522.3 and 521.1 and 515.1) or (517.1 and 4905.1 and 515.2 and 10476.2 and 521.1 and 10632.1 and 522.5 and 9551.2) or (4905.1 and 9551.1 and 515.3 and 10476.2 and 522.1 and 516.2 and 521.1 and 10632.1) or (4905.1 and 9551.1 and 10476.2 and 522.1 and 521.1 and 515.1 and 10632.1 and 518.2) or (10632.1 and 4905.1 and 10476.1 and 9551.1 and 515.3 and 522.4 and 521.1 and 518.1) or (10632.1 and 4905.1 and 10476.1 and 515.3 and 9551.3 and 517.2 and 522.5 and 521.1) or (10632.1 and 4905.1 and 10476.1 and 9551.1 and 522.5 and 516.2 and 521.1 and 515.1) or (10632.1 and 4905.1 and 10476.1 and 9551.1 and 515.3 and 518.2 and 522.3 and 521.1) or (518.3 and 10632.1 and 4905.1 and 10476.1 and 522.1 and 9551.2 and 521.1 and 515.1) or (518.3 and 10632.1 and 4905.1 and 10476.1 and 9551.1 and 515.3 and 522.4 and 521.1) or (10632.1 and 517.1 and 4905.1 and 10476.1 and 9551.1 and 522.1 and 521.1 and 515.1) or (518.3 and 4905.1 and 515.3 and 10476.2 and 522.1 and 521.1 and 10632.1 and 9551.3) or (518.3 and 4905.1 and 515.2 and 10476.2 and 521.1 and 10632.1 and 9551.3 and 522.4) or (4905.1 and 9551.1 and 515.2 and 10476.2 and 521.1 and 10632.1 and 517.2 and 522.4) or (4905.1 and 515.3 and 10476.2 and 522.1 and 521.1 and 518.1 and 10632.1 and 9551.2) or (10632.1 and 4905.1 and 10476.1 and 9551.1 and 515.2 and 522.1 and 521.1 and 518.1) or (10632.1 and 517.1 and 4905.1 and 10476.1 and 9551.3 and 522.5 and 521.1 and 515.1) or (10632.1 and 4905.1 and 10476.1 and 515.3 and 9551.3 and 522.4 and 521.1 and 518.1) or (4905.1 and 9551.1 and 515.2 and 10476.2 and 522.1 and 516.2 and 521.1 and 10632.1) or (517.1 and 4905.1 and 515.3 and 10476.2 and 522.1 and 521.1 and 10632.1 and 9551.2) or (10632.1 and 4905.1 and 10476.1 and 517.2 and 522.5 and 9551.2 and 521.1 and 515.1) or (10632.1 and 4905.1 and 516.1 and 10476.1 and 515.2 and 9551.2 and 522.3 and 521.1) or (10632.1 and 517.1 and 4905.1 and 10476.1 and 515.2 and 9551.2 and 522.4 and 521.1) or (4905.1 and 9551.1 and 515.3 and 10476.2 and 521.1 and 10632.1 and 517.2 and 522.4) or (518.3 and 4905.1 and 522.2 and 10476.2 and 521.1 and 515.1 and 10632.1 and 9551.3) or (10632.1 and 4905.1 and 516.1 and 515.3 and 10476.2 and 522.1 and 9551.2 and 521.1) or (10632.1 and 4905.1 and 516.1 and 10476.1 and 9551.1 and 515.3 and 522.1 and 521.1) or (10632.1 and 4905.1 and 516.1 and 515.3 and 9551.3 and 10476.2 and 522.1 and 521.1) or (10632.1 and 4905.1 and 10476.1 and 515.3 and 522.5 and 9551.2 and 516.2 and 521.1) or (10632.1 and 4905.1 and 10476.1 and 9551.3 and 515.2 and 522.4 and 521.1 and 518.1) or (517.1 and 4905.1 and 9551.1 and 515.3 and 10476.2 and 522.1 and 521.1 and 10632.1) or (4905.1 and 522.2 and 10476.2 and 521.1 and 515.1 and 10632.1 and 517.2 and 9551.2) or (10632.1 and 4905.1 and 516.1 and 9551.3 and 10476.2 and 522.4 and 521.1 and 515.1) or (10632.1 and 4905.1 and 10476.1 and 515.3 and 517.2 and 9551.2 and 522.3 and 521.1) or (518.3 and 10632.1 and 4905.1 and 10476.1 and 9551.1 and 515.3 and 522.5 and 521.1) or (4905.1 and 10476.2 and 521.1 and 515.1 and 10632.1 and 9551.3 and 518.2 and 522.3) or (10632.1 and 517.1 and 4905.1 and 10476.1 and 9551.2 and 522.4 and 521.1 and 515.1) or (517.1 and 4905.1 and 515.3 and 10476.2 and 521.1 and 10632.1 and 9551.3 and 522.3) or (4905.1 and 9551.1 and 515.2 and 10476.2 and 522.1 and 521.1 and 10632.1 and 518.2) or (10632.1 and 4905.1 and 10476.1 and 515.3 and 9551.3 and 518.2 and 522.3 and 521.1) or (517.1 and 4905.1 and 515.2 and 10476.2 and 521.1 and 10632.1 and 9551.3 and 522.5) or (4905.1 and 522.2 and 10476.2 and 521.1 and 518.1 and 515.1 and 10632.1 and 9551.2) or (517.1 and 4905.1 and 9551.1 and 522.2 and 10476.2 and 521.1 and 515.1 and 10632.1) or (4905.1 and 515.2 and 10476.2 and 521.1 and 10632.1 and 517.2 and 522.5 and 9551.2) or (10632.1 and 4905.1 and 516.1 and 10476.2 and 522.5 and 9551.2 and 521.1 and 515.1) or (517.1 and 4905.1 and 10476.2 and 521.1 and 515.1 and 10632.1 and 9551.3 and 522.4) or (4905.1 and 515.2 and 10476.2 and 522.1 and 521.1 and 10632.1 and 518.2 and 9551.2) or (4905.1 and 9551.1 and 515.3 and 522.2 and 10476.2 and 521.1 and 10632.1 and 517.2) or (4905.1 and 9551.1 and 10476.2 and 522.1 and 521.1 and 515.1 and 10632.1 and 517.2) or (4905.1 and 10476.2 and 522.1 and 516.2 and 521.1 and 515.1 and 10632.1 and 9551.2) or (518.3 and 10632.1 and 4905.1 and 10476.1 and 9551.1 and 515.2 and 522.3 and 521.1) or (10632.1 and 4905.1 and 516.1 and 10476.1 and 522.1 and 9551.2 and 521.1 and 515.1) or (10632.1 and 4905.1 and 516.1 and 9551.1 and 10476.2 and 522.3 and 521.1 and 515.1) or (10632.1 and 4905.1 and 10476.1 and 522.2 and 517.2 and 515.2 and 9551.2 and 521.1) or (4905.1 and 9551.1 and 515.2 and 10476.2 and 522.1 and 521.1 and 518.1 and 10632.1) or (10632.1 and 517.1 and 4905.1 and 10476.1 and 9551.1 and 515.3 and 522.4 and 521.1) or (4905.1 and 9551.1 and 515.2 and 10476.2 and 521.1 and 518.1 and 10632.1 and 522.3) or (517.1 and 4905.1 and 515.3 and 10476.2 and 521.1 and 10632.1 and 9551.3 and 522.5) or (518.3 and 4905.1 and 9551.1 and 515.3 and 10476.2 and 521.1 and 10632.1 and 522.4) or (4905.1 and 10476.2 and 522.1 and 521.1 and 518.1 and 515.1 and 10632.1 and 9551.2) or (4905.1 and 515.3 and 522.2 and 10476.2 and 521.1 and 518.1 and 10632.1 and 9551.3) or (10632.1 and 4905.1 and 10476.1 and 9551.1 and 515.3 and 522.4 and 516.2 and 521.1) or (4905.1 and 9551.1 and 515.3 and 10476.2 and 516.2 and 521.1 and 10632.1 and 522.3) or (4905.1 and 9551.1 and 515.2 and 10476.2 and 521.1 and 10632.1 and 522.5 and 518.2) or (10632.1 and 4905.1 and 10476.1 and 522.2 and 517.2 and 9551.2 and 521.1 and 515.1) or (10632.1 and 4905.1 and 516.1 and 9551.3 and 515.2 and 10476.2 and 522.4 and 521.1) or (10632.1 and 517.1 and 4905.1 and 10476.1 and 522.5 and 9551.2 and 521.1 and 515.1) or (4905.1 and 515.2 and 10476.2 and 522.1 and 521.1 and 10632.1 and 517.2 and 9551.3) or (10632.1 and 4905.1 and 10476.1 and 9551.1 and 522.2 and 517.2 and 515.2 and 521.1) or (518.3 and 4905.1 and 10476.2 and 521.1 and 515.1 and 10632.1 and 9551.3 and 522.4) or (10632.1 and 517.1 and 4905.1 and 10476.1 and 9551.1 and 522.2 and 515.2 and 521.1) or (4905.1 and 515.3 and 10476.2 and 521.1 and 10632.1 and 9551.3 and 518.2 and 522.3) or (517.1 and 4905.1 and 515.2 and 10476.2 and 522.1 and 521.1 and 10632.1 and 9551.3) or (10632.1 and 4905.1 and 10476.1 and 9551.1 and 522.1 and 518.2 and 521.1 and 515.1) or (4905.1 and 515.2 and 10476.2 and 521.1 and 10632.1 and 522.4 and 518.2 and 9551.2) or (10632.1 and 4905.1 and 10476.1 and 9551.1 and 515.3 and 522.3 and 521.1 and 518.1) or (10632.1 and 4905.1 and 10476.1 and 9551.1 and 515.3 and 522.2 and 521.1 and 518.1) or (518.3 and 4905.1 and 515.3 and 10476.2 and 521.1 and 10632.1 and 522.5 and 9551.2) or (518.3 and 10632.1 and 4905.1 and 10476.1 and 9551.3 and 515.2 and 522.5 and 521.1) or (4905.1 and 515.2 and 10476.2 and 516.2 and 521.1 and 10632.1 and 9551.2 and 522.3) or (10632.1 and 4905.1 and 10476.1 and 9551.2 and 518.2 and 522.4 and 521.1 and 515.1) or (4905.1 and 10476.2 and 522.1 and 521.1 and 518.1 and 515.1 and 10632.1 and 9551.3) or (10632.1 and 4905.1 and 10476.1 and 9551.1 and 515.2 and 518.2 and 522.4 and 521.1) or (10632.1 and 4905.1 and 10476.1 and 522.1 and 9551.2 and 521.1 and 518.1 and 515.1) or (4905.1 and 515.2 and 10476.2 and 521.1 and 518.1 and 10632.1 and 9551.3 and 522.3) or (10632.1 and 517.1 and 4905.1 and 10476.1 and 515.3 and 522.2 and 9551.3 and 521.1) or (4905.1 and 522.2 and 515.2 and 10476.2 and 516.2 and 521.1 and 10632.1 and 9551.2) or (518.3 and 4905.1 and 10476.2 and 522.1 and 521.1 and 515.1 and 10632.1 and 9551.3) or (10632.1 and 517.1 and 4905.1 and 10476.1 and 9551.3 and 522.1 and 521.1 and 515.1) or (10632.1 and 4905.1 and 10476.1 and 515.3 and 9551.2 and 518.2 and 522.3 and 521.1) or (10632.1 and 4905.1 and 10476.1 and 9551.1 and 515.3 and 522.1 and 518.2 and 521.1) or (4905.1 and 515.3 and 10476.2 and 522.1 and 521.1 and 10632.1 and 517.2 and 9551.2) or (10632.1 and 4905.1 and 10476.1 and 515.3 and 9551.3 and 517.2 and 522.4 and 521.1) or (518.3 and 10632.1 and 4905.1 and 10476.1 and 9551.2 and 522.3 and 521.1 and 515.1) or (4905.1 and 9551.1 and 10476.2 and 521.1 and 515.1 and 10632.1 and 517.2 and 522.3) or (4905.1 and 515.2 and 10476.2 and 522.1 and 516.2 and 521.1 and 10632.1 and 9551.3) or (517.1 and 4905.1 and 9551.1 and 515.3 and 10476.2 and 521.1 and 10632.1 and 522.5) or (518.3 and 10632.1 and 4905.1 and 10476.1 and 515.3 and 522.2 and 9551.3 and 521.1) or (518.3 and 10632.1 and 4905.1 and 10476.1 and 9551.1 and 522.2 and 521.1 and 515.1) or (10632.1 and 4905.1 and 10476.1 and 515.2 and 9551.2 and 516.2 and 522.3 and 521.1) or (10632.1 and 4905.1 and 10476.1 and 9551.3 and 517.2 and 515.2 and 522.5 and 521.1) or (10632.1 and 4905.1 and 516.1 and 10476.1 and 515.3 and 9551.3 and 522.1 and 521.1) or (518.3 and 10632.1 and 4905.1 and 10476.1 and 9551.1 and 515.2 and 522.5 and 521.1) or (10632.1 and 4905.1 and 516.1 and 10476.1 and 9551.1 and 515.3 and 522.2 and 521.1) or (10632.1 and 4905.1 and 10476.1 and 9551.1 and 515.2 and 522.5 and 516.2 and 521.1) or (10632.1 and 4905.1 and 10476.1 and 9551.2 and 522.4 and 521.1 and 518.1 and 515.1) or (517.1 and 4905.1 and 515.2 and 10476.2 and 522.1 and 521.1 and 10632.1 and 9551.2) or (10632.1 and 4905.1 and 516.1 and 10476.1 and 515.2 and 9551.2 and 522.4 and 521.1) or (4905.1 and 9551.1 and 515.3 and 10476.2 and 521.1 and 518.1 and 10632.1 and 522.3) or (4905.1 and 515.3 and 10476.2 and 521.1 and 518.1 and 10632.1 and 522.5 and 9551.2) or (10632.1 and 4905.1 and 516.1 and 515.3 and 10476.2 and 522.5 and 9551.2 and 521.1) or (518.3 and 10632.1 and 4905.1 and 10476.1 and 515.3 and 522.1 and 9551.2 and 521.1) or (10632.1 and 4905.1 and 10476.1 and 9551.2 and 522.4 and 516.2 and 521.1 and 515.1) or (10632.1 and 4905.1 and 516.1 and 515.3 and 9551.3 and 10476.2 and 522.5 and 521.1) or (518.3 and 4905.1 and 9551.1 and 10476.2 and 522.1 and 521.1 and 515.1 and 10632.1) or (10632.1 and 4905.1 and 10476.1 and 515.3 and 522.2 and 9551.2 and 518.2 and 521.1) or (10632.1 and 4905.1 and 10476.1 and 9551.3 and 522.1 and 516.2 and 521.1 and 515.1) or (10632.1 and 4905.1 and 10476.1 and 515.2 and 9551.2 and 522.3 and 521.1 and 518.1) or (10632.1 and 4905.1 and 10476.1 and 9551.3 and 517.2 and 522.5 and 521.1 and 515.1) or (4905.1 and 515.2 and 10476.2 and 521.1 and 10632.1 and 517.2 and 9551.3 and 522.3) or (4905.1 and 9551.1 and 515.3 and 10476.2 and 522.1 and 521.1 and 10632.1 and 518.2) or (10632.1 and 4905.1 and 10476.1 and 515.3 and 9551.3 and 517.2 and 522.1 and 521.1) or (517.1 and 4905.1 and 9551.1 and 515.2 and 10476.2 and 522.1 and 521.1 and 10632.1) or (4905.1 and 9551.1 and 515.2 and 10476.2 and 516.2 and 521.1 and 10632.1 and 522.4) or (4905.1 and 9551.1 and 522.2 and 10476.2 and 521.1 and 515.1 and 10632.1 and 517.2) or (10632.1 and 4905.1 and 516.1 and 10476.2 and 9551.2 and 522.4 and 521.1 and 515.1) or (10632.1 and 4905.1 and 516.1 and 10476.1 and 522.5 and 9551.2 and 521.1 and 515.1) or (10632.1 and 4905.1 and 10476.1 and 522.5 and 9551.2 and 516.2 and 521.1 and 515.1) or (10632.1 and 4905.1 and 10476.1 and 9551.2 and 516.2 and 522.3 and 521.1 and 515.1) or (10632.1 and 4905.1 and 516.1 and 10476.1 and 522.2 and 9551.2 and 521.1 and 515.1) or (517.1 and 4905.1 and 10476.2 and 521.1 and 515.1 and 10632.1 and 522.4 and 9551.2) or (10632.1 and 4905.1 and 10476.1 and 9551.1 and 515.3 and 516.2 and 522.3 and 521.1) or (4905.1 and 10476.2 and 521.1 and 518.1 and 515.1 and 10632.1 and 9551.3 and 522.5) or (10632.1 and 4905.1 and 10476.1 and 9551.1 and 515.2 and 522.5 and 518.2 and 521.1) or (10632.1 and 517.1 and 4905.1 and 10476.1 and 515.3 and 9551.3 and 522.1 and 521.1) or (10632.1 and 4905.1 and 10476.1 and 515.3 and 9551.3 and 522.5 and 518.2 and 521.1) or (10632.1 and 4905.1 and 10476.1 and 522.2 and 9551.2 and 518.2 and 521.1 and 515.1) or (10632.1 and 517.1 and 4905.1 and 10476.1 and 9551.1 and 515.3 and 522.1 and 521.1) or (518.3 and 4905.1 and 9551.1 and 515.2 and 10476.2 and 522.1 and 521.1 and 10632.1) or (10632.1 and 4905.1 and 10476.1 and 515.3 and 522.5 and 9551.2 and 521.1 and 518.1) or (518.3 and 4905.1 and 515.3 and 10476.2 and 521.1 and 10632.1 and 9551.3 and 522.3) or (518.3 and 10632.1 and 4905.1 and 10476.1 and 9551.1 and 515.2 and 522.4 and 521.1) or (517.1 and 4905.1 and 10476.2 and 521.1 and 515.1 and 10632.1 and 9551.3 and 522.3) or (4905.1 and 515.2 and 10476.2 and 516.2 and 521.1 and 10632.1 and 522.5 and 9551.2) or (4905.1 and 9551.1 and 10476.2 and 521.1 and 518.1 and 515.1 and 10632.1 and 522.5) or (10632.1 and 4905.1 and 10476.1 and 517.2 and 9551.2 and 522.3 and 521.1 and 515.1) or (4905.1 and 522.2 and 515.2 and 10476.2 and 521.1 and 10632.1 and 518.2 and 9551.2) or (10632.1 and 4905.1 and 10476.1 and 515.3 and 522.2 and 517.2 and 9551.2 and 521.1) or (518.3 and 10632.1 and 4905.1 and 10476.1 and 9551.1 and 522.4 and 521.1 and 515.1) or (10632.1 and 4905.1 and 516.1 and 9551.3 and 515.2 and 10476.2 and 522.3 and 521.1) or (518.3 and 10632.1 and 4905.1 and 10476.1 and 9551.3 and 522.1 and 521.1 and 515.1) or (518.3 and 4905.1 and 9551.1 and 10476.2 and 521.1 and 515.1 and 10632.1 and 522.3) or (10632.1 and 517.1 and 4905.1 and 10476.1 and 515.2 and 9551.2 and 522.3 and 521.1) or (4905.1 and 9551.1 and 10476.2 and 521.1 and 518.1 and 515.1 and 10632.1 and 522.4) or (4905.1 and 9551.1 and 10476.2 and 516.2 and 521.1 and 515.1 and 10632.1 and 522.5) or (4905.1 and 9551.1 and 10476.2 and 516.2 and 521.1 and 515.1 and 10632.1 and 522.4) or (4905.1 and 515.2 and 10476.2 and 521.1 and 10632.1 and 9551.3 and 518.2 and 522.3) or (10632.1 and 4905.1 and 10476.1 and 9551.1 and 522.2 and 515.2 and 521.1 and 518.1) or (10632.1 and 4905.1 and 10476.1 and 9551.3 and 515.2 and 522.3 and 521.1 and 518.1) or (10632.1 and 4905.1 and 10476.1 and 515.3 and 9551.3 and 522.3 and 521.1 and 518.1) or (4905.1 and 515.3 and 10476.2 and 516.2 and 521.1 and 10632.1 and 9551.3 and 522.5) or (10632.1 and 4905.1 and 516.1 and 10476.1 and 515.2 and 522.5 and 9551.2 and 521.1) or (517.1 and 4905.1 and 9551.1 and 10476.2 and 521.1 and 515.1 and 10632.1 and 522.4) or (4905.1 and 515.2 and 10476.2 and 521.1 and 518.1 and 10632.1 and 9551.3 and 522.4) or (10632.1 and 4905.1 and 10476.1 and 522.2 and 9551.3 and 515.2 and 516.2 and 521.1) or (4905.1 and 515.3 and 10476.2 and 522.1 and 521.1 and 518.1 and 10632.1 and 9551.3) or (4905.1 and 10476.2 and 521.1 and 515.1 and 10632.1 and 517.2 and 9551.3 and 522.4) or (4905.1 and 9551.1 and 515.3 and 10476.2 and 521.1 and 10632.1 and 522.4 and 518.2) or (10632.1 and 517.1 and 4905.1 and 10476.1 and 9551.1 and 522.2 and 521.1 and 515.1) or (10632.1 and 4905.1 and 10476.1 and 522.2 and 9551.3 and 517.2 and 521.1 and 515.1) or (4905.1 and 515.3 and 10476.2 and 516.2 and 521.1 and 10632.1 and 9551.2 and 522.3) or (4905.1 and 9551.1 and 515.2 and 10476.2 and 522.1 and 521.1 and 10632.1 and 517.2) or (10632.1 and 4905.1 and 10476.1 and 9551.3 and 515.2 and 518.2 and 522.4 and 521.1) or (518.3 and 4905.1 and 10476.2 and 522.1 and 521.1 and 515.1 and 10632.1 and 9551.2) or (4905.1 and 9551.1 and 515.3 and 10476.2 and 522.1 and 521.1 and 518.1 and 10632.1) or (4905.1 and 9551.1 and 10476.2 and 521.1 and 515.1 and 10632.1 and 517.2 and 522.4) or (10632.1 and 4905.1 and 516.1 and 9551.3 and 10476.2 and 522.5 and 521.1 and 515.1) or (10632.1 and 517.1 and 4905.1 and 10476.1 and 9551.3 and 515.2 and 522.1 and 521.1) or (10632.1 and 4905.1 and 10476.1 and 515.3 and 9551.2 and 518.2 and 522.4 and 521.1) or (10632.1 and 517.1 and 4905.1 and 10476.1 and 515.3 and 522.5 and 9551.2 and 521.1) or (518.3 and 4905.1 and 515.2 and 10476.2 and 521.1 and 10632.1 and 9551.2 and 522.3) or (10632.1 and 4905.1 and 516.1 and 10476.1 and 515.3 and 9551.3 and 522.4 and 521.1) or (10632.1 and 4905.1 and 516.1 and 10476.1 and 9551.3 and 515.2 and 522.5 and 521.1) or (10632.1 and 4905.1 and 516.1 and 515.3 and 9551.3 and 10476.2 and 522.4 and 521.1) or (10632.1 and 4905.1 and 10476.1 and 515.3 and 517.2 and 522.5 and 9551.2 and 521.1) or (4905.1 and 515.3 and 522.2 and 10476.2 and 521.1 and 10632.1 and 517.2 and 9551.2) or (518.3 and 10632.1 and 4905.1 and 10476.1 and 9551.1 and 522.1 and 521.1 and 515.1) or (518.3 and 10632.1 and 4905.1 and 10476.1 and 515.3 and 9551.3 and 522.4 and 521.1) or (10632.1 and 4905.1 and 10476.1 and 522.2 and 515.2 and 9551.2 and 521.1 and 518.1) or (517.1 and 4905.1 and 522.2 and 515.2 and 10476.2 and 521.1 and 10632.1 and 9551.3) or (4905.1 and 9551.1 and 10476.2 and 516.2 and 521.1 and 515.1 and 10632.1 and 522.3) or (10632.1 and 4905.1 and 516.1 and 9551.1 and 522.2 and 515.2 and 10476.2 and 521.1) or (4905.1 and 522.2 and 515.2 and 10476.2 and 521.1 and 10632.1 and 517.2 and 9551.3) or (10632.1 and 4905.1 and 516.1 and 10476.1 and 9551.1 and 522.4 and 521.1 and 515.1) or (10632.1 and 4905.1 and 10476.1 and 522.2 and 515.2 and 9551.2 and 516.2 and 521.1) or (10632.1 and 4905.1 and 516.1 and 10476.1 and 9551.1 and 515.2 and 522.4 and 521.1) or (518.3 and 10632.1 and 4905.1 and 10476.1 and 9551.2 and 522.4 and 521.1 and 515.1) or (518.3 and 10632.1 and 4905.1 and 10476.1 and 515.3 and 9551.3 and 522.3 and 521.1) or (10632.1 and 4905.1 and 10476.1 and 522.1 and 9551.2 and 518.2 and 521.1 and 515.1) or (4905.1 and 515.3 and 10476.2 and 521.1 and 518.1 and 10632.1 and 9551.3 and 522.3) or (10632.1 and 4905.1 and 10476.1 and 9551.1 and 517.2 and 522.4 and 521.1 and 515.1) or (10632.1 and 4905.1 and 516.1 and 10476.1 and 9551.1 and 515.3 and 522.3 and 521.1) or (10632.1 and 4905.1 and 516.1 and 515.2 and 10476.2 and 9551.2 and 522.3 and 521.1) or (10632.1 and 4905.1 and 10476.1 and 9551.2 and 522.3 and 521.1 and 518.1 and 515.1) or (518.3 and 10632.1 and 4905.1 and 10476.1 and 9551.3 and 522.5 and 521.1 and 515.1) or (517.1 and 4905.1 and 9551.1 and 515.2 and 10476.2 and 521.1 and 10632.1 and 522.5) or (4905.1 and 10476.2 and 521.1 and 515.1 and 10632.1 and 517.2 and 522.5 and 9551.2) or (10632.1 and 4905.1 and 10476.1 and 9551.1 and 522.2 and 516.2 and 521.1 and 515.1) or (10632.1 and 4905.1 and 516.1 and 10476.2 and 9551.2 and 522.3 and 521.1 and 515.1) or (10632.1 and 4905.1 and 10476.1 and 9551.1 and 522.4 and 521.1 and 518.1 and 515.1) or (10632.1 and 4905.1 and 10476.1 and 517.2 and 515.2 and 9551.2 and 522.4 and 521.1) or (518.3 and 4905.1 and 515.3 and 522.2 and 10476.2 and 521.1 and 10632.1 and 9551.3) or (10632.1 and 4905.1 and 516.1 and 10476.1 and 9551.2 and 522.3 and 521.1 and 515.1) or (518.3 and 4905.1 and 515.2 and 10476.2 and 522.1 and 521.1 and 10632.1 and 9551.3) or (517.1 and 4905.1 and 10476.2 and 521.1 and 515.1 and 10632.1 and 522.5 and 9551.2) or (10632.1 and 4905.1 and 10476.1 and 9551.1 and 515.2 and 522.5 and 521.1 and 518.1) or (10632.1 and 4905.1 and 10476.1 and 9551.1 and 517.2 and 522.5 and 521.1 and 515.1) or (10632.1 and 517.1 and 4905.1 and 10476.1 and 9551.3 and 522.3 and 521.1 and 515.1) or (10632.1 and 4905.1 and 10476.1 and 9551.3 and 515.2 and 522.4 and 516.2 and 521.1) or (4905.1 and 515.2 and 10476.2 and 522.1 and 521.1 and 10632.1 and 9551.3 and 518.2) or (10632.1 and 4905.1 and 10476.1 and 515.3 and 9551.2 and 522.4 and 521.1 and 518.1) or (517.1 and 4905.1 and 522.2 and 10476.2 and 521.1 and 515.1 and 10632.1 and 9551.3) or (4905.1 and 515.3 and 10476.2 and 521.1 and 518.1 and 10632.1 and 522.4 and 9551.2) or (10632.1 and 517.1 and 4905.1 and 10476.1 and 515.3 and 9551.3 and 522.4 and 521.1) or (10632.1 and 517.1 and 4905.1 and 10476.1 and 9551.1 and 515.3 and 522.2 and 521.1) or (10632.1 and 4905.1 and 10476.1 and 522.2 and 9551.2 and 516.2 and 521.1 and 515.1) or (10632.1 and 4905.1 and 516.1 and 10476.1 and 9551.3 and 522.5 and 521.1 and 515.1) or (10632.1 and 4905.1 and 516.1 and 9551.1 and 515.3 and 10476.2 and 522.4 and 521.1) or (4905.1 and 515.3 and 10476.2 and 521.1 and 10632.1 and 522.4 and 518.2 and 9551.2) or (10632.1 and 4905.1 and 516.1 and 10476.1 and 9551.3 and 515.2 and 522.1 and 521.1) or (4905.1 and 10476.2 and 521.1 and 515.1 and 10632.1 and 517.2 and 522.4 and 9551.2) or (518.3 and 10632.1 and 4905.1 and 10476.1 and 522.2 and 515.2 and 9551.2 and 521.1) or (10632.1 and 4905.1 and 516.1 and 515.3 and 9551.3 and 10476.2 and 522.3 and 521.1) or (4905.1 and 515.2 and 10476.2 and 522.1 and 521.1 and 518.1 and 10632.1 and 9551.3) or (4905.1 and 522.2 and 515.2 and 10476.2 and 516.2 and 521.1 and 10632.1 and 9551.3) or (10632.1 and 4905.1 and 10476.1 and 9551.1 and 515.3 and 522.2 and 517.2 and 521.1) or (10632.1 and 4905.1 and 10476.1 and 522.2 and 9551.3 and 515.2 and 518.2 and 521.1) or (10632.1 and 4905.1 and 10476.1 and 9551.1 and 515.3 and 522.2 and 518.2 and 521.1) or (4905.1 and 10476.2 and 522.1 and 521.1 and 515.1 and 10632.1 and 9551.3 and 518.2) or (4905.1 and 9551.1 and 10476.2 and 521.1 and 515.1 and 10632.1 and 517.2 and 522.5) or (4905.1 and 9551.1 and 522.2 and 515.2 and 10476.2 and 521.1 and 10632.1 and 518.2) or (4905.1 and 515.3 and 10476.2 and 521.1 and 10632.1 and 517.2 and 522.5 and 9551.2) or (517.1 and 4905.1 and 9551.1 and 515.3 and 10476.2 and 521.1 and 10632.1 and 522.3) or (518.3 and 4905.1 and 515.3 and 522.2 and 10476.2 and 521.1 and 10632.1 and 9551.2) or (4905.1 and 515.2 and 10476.2 and 516.2 and 521.1 and 10632.1 and 9551.3 and 522.3) or (10632.1 and 4905.1 and 10476.1 and 515.3 and 522.1 and 9551.2 and 516.2 and 521.1) or (4905.1 and 515.3 and 10476.2 and 521.1 and 10632.1 and 517.2 and 9551.3 and 522.5) or (4905.1 and 9551.1 and 515.3 and 10476.2 and 516.2 and 521.1 and 10632.1 and 522.5) or (10632.1 and 4905.1 and 10476.1 and 9551.1 and 522.2 and 518.2 and 521.1 and 515.1) or (4905.1 and 10476.2 and 521.1 and 515.1 and 10632.1 and 517.2 and 9551.3 and 522.3) or (10632.1 and 4905.1 and 10476.1 and 515.2 and 522.5 and 9551.2 and 516.2 and 521.1) or (10632.1 and 4905.1 and 516.1 and 9551.1 and 515.3 and 10476.2 and 522.3 and 521.1) or (4905.1 and 9551.1 and 515.3 and 10476.2 and 521.1 and 10632.1 and 522.5 and 518.2) or (4905.1 and 515.3 and 10476.2 and 516.2 and 521.1 and 10632.1 and 9551.3 and 522.4) or (10632.1 and 4905.1 and 516.1 and 9551.1 and 522.2 and 10476.2 and 521.1 and 515.1) or (10632.1 and 4905.1 and 10476.1 and 515.3 and 517.2 and 9551.2 and 522.4 and 521.1) or (4905.1 and 515.3 and 10476.2 and 522.1 and 521.1 and 10632.1 and 9551.3 and 518.2) or (517.1 and 4905.1 and 522.2 and 10476.2 and 521.1 and 515.1 and 10632.1 and 9551.2) or (10632.1 and 4905.1 and 516.1 and 9551.3 and 515.2 and 10476.2 and 522.1 and 521.1) or (4905.1 and 515.3 and 10476.2 and 521.1 and 518.1 and 10632.1 and 9551.3 and 522.5) or (4905.1 and 515.3 and 10476.2 and 516.2 and 521.1 and 10632.1 and 522.4 and 9551.2) or (10632.1 and 4905.1 and 10476.1 and 9551.1 and 522.1 and 521.1 and 518.1 and 515.1) or (10632.1 and 4905.1 and 10476.1 and 517.2 and 9551.2 and 522.4 and 521.1 and 515.1) or (10632.1 and 4905.1 and 516.1 and 10476.1 and 9551.1 and 522.2 and 521.1 and 515.1) or (4905.1 and 515.3 and 10476.2 and 521.1 and 10632.1 and 517.2 and 9551.2 and 522.3) or (4905.1 and 9551.1 and 522.2 and 10476.2 and 521.1 and 518.1 and 515.1 and 10632.1) or (518.3 and 4905.1 and 522.2 and 515.2 and 10476.2 and 521.1 and 10632.1 and 9551.2) or (4905.1 and 515.3 and 10476.2 and 521.1 and 10632.1 and 522.5 and 518.2 and 9551.2) or (518.3 and 4905.1 and 10476.2 and 521.1 and 515.1 and 10632.1 and 522.4 and 9551.2) or (10632.1 and 4905.1 and 516.1 and 10476.1 and 9551.1 and 515.2 and 522.1 and 521.1) or (10632.1 and 517.1 and 4905.1 and 10476.1 and 515.3 and 9551.2 and 522.4 and 521.1) or (10632.1 and 517.1 and 4905.1 and 10476.1 and 9551.1 and 522.3 and 521.1 and 515.1) or (517.1 and 4905.1 and 515.3 and 10476.2 and 521.1 and 10632.1 and 522.4 and 9551.2) or (4905.1 and 9551.1 and 522.2 and 10476.2 and 516.2 and 521.1 and 515.1 and 10632.1) or (10632.1 and 4905.1 and 10476.1 and 9551.3 and 522.5 and 518.2 and 521.1 and 515.1) or (10632.1 and 517.1 and 4905.1 and 10476.1 and 9551.1 and 515.2 and 522.3 and 521.1) or (10632.1 and 517.1 and 4905.1 and 10476.1 and 515.2 and 522.5 and 9551.2 and 521.1) or (518.3 and 10632.1 and 4905.1 and 10476.1 and 515.3 and 9551.2 and 522.3 and 521.1) or (518.3 and 4905.1 and 9551.1 and 515.2 and 10476.2 and 521.1 and 10632.1 and 522.3) or (4905.1 and 515.2 and 10476.2 and 521.1 and 518.1 and 10632.1 and 522.4 and 9551.2) or (4905.1 and 522.2 and 10476.2 and 521.1 and 515.1 and 10632.1 and 518.2 and 9551.2) or (517.1 and 4905.1 and 10476.2 and 522.1 and 521.1 and 515.1 and 10632.1 and 9551.3) or (10632.1 and 4905.1 and 10476.1 and 9551.3 and 515.2 and 522.1 and 518.2 and 521.1) or (4905.1 and 9551.1 and 515.3 and 522.2 and 10476.2 and 521.1 and 10632.1 and 518.2) or (4905.1 and 10476.2 and 521.1 and 515.1 and 10632.1 and 522.4 and 518.2 and 9551.2) or (10632.1 and 4905.1 and 10476.1 and 9551.1 and 515.2 and 516.2 and 522.3 and 521.1) or (517.1 and 4905.1 and 9551.1 and 515.2 and 10476.2 and 521.1 and 10632.1 and 522.4) or (10632.1 and 4905.1 and 10476.1 and 515.3 and 9551.2 and 522.3 and 521.1 and 518.1) or (4905.1 and 9551.1 and 515.3 and 10476.2 and 521.1 and 10632.1 and 517.2 and 522.3) or (4905.1 and 515.2 and 10476.2 and 521.1 and 10632.1 and 518.2 and 9551.2 and 522.3) or (10632.1 and 4905.1 and 10476.1 and 9551.1 and 517.2 and 515.2 and 522.1 and 521.1) or (10632.1 and 4905.1 and 10476.1 and 522.1 and 9551.2 and 516.2 and 521.1 and 515.1) or (10632.1 and 4905.1 and 516.1 and 10476.1 and 522.2 and 9551.3 and 515.2 and 521.1) or (4905.1 and 9551.1 and 10476.2 and 522.1 and 521.1 and 518.1 and 515.1 and 10632.1) or (10632.1 and 4905.1 and 516.1 and 10476.1 and 9551.1 and 515.3 and 522.4 and 521.1) or (10632.1 and 4905.1 and 10476.1 and 9551.1 and 515.3 and 522.1 and 521.1 and 518.1) or (4905.1 and 10476.2 and 522.1 and 521.1 and 515.1 and 10632.1 and 517.2 and 9551.2) or (517.1 and 4905.1 and 9551.1 and 10476.2 and 521.1 and 515.1 and 10632.1 and 522.3) or (10632.1 and 4905.1 and 516.1 and 9551.1 and 515.3 and 10476.2 and 522.5 and 521.1) or (518.3 and 4905.1 and 515.2 and 10476.2 and 521.1 and 10632.1 and 522.4 and 9551.2) or (10632.1 and 4905.1 and 10476.1 and 515.3 and 9551.3 and 522.5 and 521.1 and 518.1) or (10632.1 and 4905.1 and 10476.1 and 9551.1 and 516.2 and 522.3 and 521.1 and 515.1) or (10632.1 and 517.1 and 4905.1 and 10476.1 and 9551.1 and 515.2 and 522.4 and 521.1) or (10632.1 and 4905.1 and 10476.1 and 9551.1 and 522.3 and 521.1 and 518.1 and 515.1) or (517.1 and 4905.1 and 515.3 and 10476.2 and 521.1 and 10632.1 and 9551.3 and 522.4) or (518.3 and 4905.1 and 515.3 and 10476.2 and 521.1 and 10632.1 and 9551.3 and 522.5) or (518.3 and 4905.1 and 9551.1 and 10476.2 and 521.1 and 515.1 and 10632.1 and 522.4) or (10632.1 and 4905.1 and 516.1 and 522.2 and 9551.3 and 515.2 and 10476.2 and 521.1) or (10632.1 and 4905.1 and 516.1 and 9551.1 and 10476.2 and 522.1 and 521.1 and 515.1) or (4905.1 and 9551.1 and 522.2 and 515.2 and 10476.2 and 521.1 and 518.1 and 10632.1) or (10632.1 and 4905.1 and 516.1 and 10476.1 and 515.2 and 522.1 and 9551.2 and 521.1) or (4905.1 and 522.2 and 515.2 and 10476.2 and 521.1 and 518.1 and 10632.1 and 9551.3) or (10632.1 and 4905.1 and 10476.1 and 517.2 and 515.2 and 522.5 and 9551.2 and 521.1) or (10632.1 and 4905.1 and 10476.1 and 9551.3 and 515.2 and 522.5 and 521.1 and 518.1) or (518.3 and 4905.1 and 9551.1 and 515.3 and 10476.2 and 522.1 and 521.1 and 10632.1) or (4905.1 and 9551.1 and 515.3 and 522.2 and 10476.2 and 521.1 and 518.1 and 10632.1) or (10632.1 and 4905.1 and 10476.1 and 9551.1 and 515.2 and 522.1 and 518.2 and 521.1) or (518.3 and 10632.1 and 4905.1 and 10476.1 and 522.2 and 9551.2 and 521.1 and 515.1) or (10632.1 and 4905.1 and 10476.1 and 515.3 and 522.2 and 9551.2 and 516.2 and 521.1) or (4905.1 and 9551.1 and 515.2 and 10476.2 and 521.1 and 10632.1 and 522.4 and 518.2) or (10632.1 and 4905.1 and 516.1 and 10476.1 and 515.3 and 522.2 and 9551.3 and 521.1) or (4905.1 and 515.2 and 10476.2 and 522.1 and 521.1 and 10632.1 and 517.2 and 9551.2) or (4905.1 and 10476.2 and 522.1 and 516.2 and 521.1 and 515.1 and 10632.1 and 9551.3) or (4905.1 and 10476.2 and 521.1 and 515.1 and 10632.1 and 517.2 and 9551.3 and 522.5) or (517.1 and 4905.1 and 515.3 and 10476.2 and 521.1 and 10632.1 and 9551.2 and 522.3) or (518.3 and 10632.1 and 4905.1 and 10476.1 and 9551.1 and 522.3 and 521.1 and 515.1) or (10632.1 and 4905.1 and 516.1 and 515.3 and 522.2 and 9551.3 and 10476.2 and 521.1) or (10632.1 and 4905.1 and 516.1 and 10476.1 and 9551.1 and 515.3 and 522.5 and 521.1) or (10632.1 and 4905.1 and 10476.1 and 515.2 and 522.1 and 9551.2 and 518.2 and 521.1) or (4905.1 and 515.3 and 10476.2 and 521.1 and 10632.1 and 517.2 and 522.4 and 9551.2) or (10632.1 and 4905.1 and 10476.1 and 9551.3 and 517.2 and 522.4 and 521.1 and 515.1) or (4905.1 and 9551.1 and 515.2 and 10476.2 and 521.1 and 518.1 and 10632.1 and 522.5) or (4905.1 and 9551.1 and 10476.2 and 521.1 and 518.1 and 515.1 and 10632.1 and 522.3) or (4905.1 and 9551.1 and 522.2 and 10476.2 and 521.1 and 515.1 and 10632.1 and 518.2) or (10632.1 and 4905.1 and 10476.1 and 515.3 and 522.2 and 9551.3 and 517.2 and 521.1) or (518.3 and 4905.1 and 10476.2 and 521.1 and 515.1 and 10632.1 and 9551.3 and 522.3) or (10632.1 and 517.1 and 4905.1 and 10476.1 and 9551.3 and 515.2 and 522.3 and 521.1) or (4905.1 and 515.3 and 10476.2 and 521.1 and 518.1 and 10632.1 and 9551.3 and 522.4) or (10632.1 and 4905.1 and 10476.1 and 9551.1 and 517.2 and 515.2 and 522.4 and 521.1) or (518.3 and 10632.1 and 4905.1 and 10476.1 and 515.2 and 522.1 and 9551.2 and 521.1) or (518.3 and 10632.1 and 4905.1 and 10476.1 and 522.5 and 9551.2 and 521.1 and 515.1) or (10632.1 and 4905.1 and 10476.1 and 515.2 and 9551.2 and 522.4 and 516.2 and 521.1) or (4905.1 and 515.3 and 10476.2 and 522.1 and 516.2 and 521.1 and 10632.1 and 9551.2) or (517.1 and 4905.1 and 10476.2 and 521.1 and 515.1 and 10632.1 and 9551.2 and 522.3) or (517.1 and 4905.1 and 9551.1 and 515.3 and 10476.2 and 521.1 and 10632.1 and 522.4) or (10632.1 and 4905.1 and 10476.1 and 515.3 and 9551.3 and 516.2 and 522.3 and 521.1) or (10632.1 and 4905.1 and 516.1 and 9551.1 and 515.3 and 522.2 and 10476.2 and 521.1) or (518.3 and 10632.1 and 4905.1 and 10476.1 and 522.2 and 9551.3 and 515.2 and 521.1) or (4905.1 and 515.2 and 10476.2 and 521.1 and 10632.1 and 517.2 and 9551.3 and 522.4) or (518.3 and 10632.1 and 4905.1 and 10476.1 and 515.3 and 522.2 and 9551.2 and 521.1) or (10632.1 and 4905.1 and 10476.1 and 9551.1 and 522.5 and 521.1 and 518.1 and 515.1) or (4905.1 and 515.3 and 522.2 and 10476.2 and 516.2 and 521.1 and 10632.1 and 9551.2) or (10632.1 and 4905.1 and 516.1 and 10476.1 and 9551.3 and 522.4 and 521.1 and 515.1) or (10632.1 and 4905.1 and 10476.1 and 9551.1 and 515.3 and 522.5 and 516.2 and 521.1) or (4905.1 and 9551.1 and 515.2 and 10476.2 and 516.2 and 521.1 and 10632.1 and 522.5) or (10632.1 and 517.1 and 4905.1 and 10476.1 and 515.3 and 9551.3 and 522.3 and 521.1) and (539.1 and 267020.1 and 27109.1)' for <Reaction ATPS4mi at 0x7f4843e50438>\n"
     ]
    }
   ],
   "source": [
    "# Loading the JSON file\n",
    "# Change the location of the .json file if it is located somewhere else\n",
    "from ssbio.core.io import load_json\n",
    "Recon3D_GP = load_json('./Recon3D_GP/model/Recon3D_GP.json.gz', decompression=True)"
   ]
  },
  {
   "cell_type": "code",
   "execution_count": 2,
   "metadata": {
    "collapsed": true
   },
   "outputs": [],
   "source": [
    "# # Alternative - loading the pickle file\n",
    "# # Uncomment and use this loading method if the JSON file fails to load\n",
    "# from ssbio.core.io import load_pickle\n",
    "# Recon3D_GP = load_pickle('./Recon3D_GP/model/Recon3D_GP.pckl')"
   ]
  },
  {
   "cell_type": "markdown",
   "metadata": {},
   "source": [
    "## Basic information & DataFrames"
   ]
  },
  {
   "cell_type": "markdown",
   "metadata": {},
   "source": [
    "### Genes with and without structures"
   ]
  },
  {
   "cell_type": "code",
   "execution_count": 3,
   "metadata": {
    "collapsed": false
   },
   "outputs": [
    {
     "data": {
      "text/plain": [
       "[<GenePro 26.1 at 0x7f485a0314a8>,\n",
       " <GenePro 8639.1 at 0x7f485970e0b8>,\n",
       " <GenePro 10993.1 at 0x7f4859732160>,\n",
       " <GenePro 3939.1 at 0x7f48596d54e0>,\n",
       " <GenePro 3945.1 at 0x7f48596d5e10>,\n",
       " <GenePro 8050.1 at 0x7f48596bb5c0>,\n",
       " <GenePro 1738.1 at 0x7f48596bbef0>,\n",
       " <GenePro 4967.1 at 0x7f485965eeb8>,\n",
       " <GenePro 4967.2 at 0x7f485960b4a8>,\n",
       " <GenePro 131.1 at 0x7f485960f128>]"
      ]
     },
     "execution_count": 3,
     "metadata": {},
     "output_type": "execute_result"
    }
   ],
   "source": [
    "# List all genes that have at least one experimental PDB structure\n",
    "Recon3D_GP.genes_with_experimental_structures[:10]"
   ]
  },
  {
   "cell_type": "code",
   "execution_count": 4,
   "metadata": {
    "collapsed": false
   },
   "outputs": [
    {
     "data": {
      "text/plain": [
       "[<GenePro 1591.1 at 0x7f485970e470>,\n",
       " <GenePro 1594.1 at 0x7f4859728828>,\n",
       " <GenePro 10993.1 at 0x7f4859732160>,\n",
       " <GenePro 89874.1 at 0x7f4859743780>,\n",
       " <GenePro 160287.1 at 0x7f48596ca198>,\n",
       " <GenePro 92483.1 at 0x7f48596ca2b0>,\n",
       " <GenePro 3948.1 at 0x7f48596cab38>,\n",
       " <GenePro 3939.1 at 0x7f48596d54e0>,\n",
       " <GenePro 3945.1 at 0x7f48596d5e10>,\n",
       " <GenePro 9123.1 at 0x7f485969c240>]"
      ]
     },
     "execution_count": 4,
     "metadata": {},
     "output_type": "execute_result"
    }
   ],
   "source": [
    "# List all genes that have at least one homology model\n",
    "Recon3D_GP.genes_with_homology_models[:10]"
   ]
  },
  {
   "cell_type": "markdown",
   "metadata": {},
   "source": [
    "### Summary DataFrames"
   ]
  },
  {
   "cell_type": "code",
   "execution_count": 5,
   "metadata": {
    "collapsed": false
   },
   "outputs": [
    {
     "data": {
      "text/html": [
       "<div>\n",
       "<style>\n",
       "    .dataframe thead tr:only-child th {\n",
       "        text-align: right;\n",
       "    }\n",
       "\n",
       "    .dataframe thead th {\n",
       "        text-align: left;\n",
       "    }\n",
       "\n",
       "    .dataframe tbody tr th {\n",
       "        vertical-align: top;\n",
       "    }\n",
       "</style>\n",
       "<table border=\"1\" class=\"dataframe\">\n",
       "  <thead>\n",
       "    <tr style=\"text-align: right;\">\n",
       "      <th></th>\n",
       "      <th>id</th>\n",
       "      <th>sequences</th>\n",
       "      <th>num_sequences</th>\n",
       "      <th>representative_sequence</th>\n",
       "      <th>num_structures</th>\n",
       "      <th>experimental_structures</th>\n",
       "      <th>num_experimental_structures</th>\n",
       "      <th>homology_models</th>\n",
       "      <th>num_homology_models</th>\n",
       "      <th>representative_structure</th>\n",
       "      <th>representative_chain</th>\n",
       "      <th>representative_chain_seq_coverage</th>\n",
       "      <th>num_sequence_alignments</th>\n",
       "      <th>num_structure_alignments</th>\n",
       "    </tr>\n",
       "    <tr>\n",
       "      <th>gene</th>\n",
       "      <th></th>\n",
       "      <th></th>\n",
       "      <th></th>\n",
       "      <th></th>\n",
       "      <th></th>\n",
       "      <th></th>\n",
       "      <th></th>\n",
       "      <th></th>\n",
       "      <th></th>\n",
       "      <th></th>\n",
       "      <th></th>\n",
       "      <th></th>\n",
       "      <th></th>\n",
       "      <th></th>\n",
       "    </tr>\n",
       "  </thead>\n",
       "  <tbody>\n",
       "    <tr>\n",
       "      <th>10.1</th>\n",
       "      <td>10.1</td>\n",
       "      <td>[P11245-1]</td>\n",
       "      <td>1</td>\n",
       "      <td>P11245-1</td>\n",
       "      <td>3</td>\n",
       "      <td>[2pfr]</td>\n",
       "      <td>1</td>\n",
       "      <td>[H12520, ENSP00000286479]</td>\n",
       "      <td>2</td>\n",
       "      <td>2pfr-A</td>\n",
       "      <td>A</td>\n",
       "      <td>99.7</td>\n",
       "      <td>2</td>\n",
       "      <td>0</td>\n",
       "    </tr>\n",
       "    <tr>\n",
       "      <th>100.1</th>\n",
       "      <td>100.1</td>\n",
       "      <td>[P00813-1]</td>\n",
       "      <td>1</td>\n",
       "      <td>P00813-1</td>\n",
       "      <td>22</td>\n",
       "      <td>[3iar, 2bgn, 1w1i, 1qxl, 1krm, 2z7g, 2e1w, 1wx...</td>\n",
       "      <td>20</td>\n",
       "      <td>[H27942, ENSP00000361965]</td>\n",
       "      <td>2</td>\n",
       "      <td>3iar-A</td>\n",
       "      <td>A</td>\n",
       "      <td>98.6</td>\n",
       "      <td>1</td>\n",
       "      <td>0</td>\n",
       "    </tr>\n",
       "    <tr>\n",
       "      <th>10000.1</th>\n",
       "      <td>10000.1</td>\n",
       "      <td>[Q9Y243-1]</td>\n",
       "      <td>1</td>\n",
       "      <td>Q9Y243-1</td>\n",
       "      <td>2</td>\n",
       "      <td>[2x18]</td>\n",
       "      <td>1</td>\n",
       "      <td>[H03080]</td>\n",
       "      <td>1</td>\n",
       "      <td>H03080-X</td>\n",
       "      <td>X</td>\n",
       "      <td>100.0</td>\n",
       "      <td>9</td>\n",
       "      <td>0</td>\n",
       "    </tr>\n",
       "    <tr>\n",
       "      <th>10005.1</th>\n",
       "      <td>10005.1</td>\n",
       "      <td>[O14734-1]</td>\n",
       "      <td>1</td>\n",
       "      <td>O14734-1</td>\n",
       "      <td>2</td>\n",
       "      <td>[]</td>\n",
       "      <td>0</td>\n",
       "      <td>[H28002, ENSP00000217455]</td>\n",
       "      <td>2</td>\n",
       "      <td>H28002-X</td>\n",
       "      <td>X</td>\n",
       "      <td>100.0</td>\n",
       "      <td>1</td>\n",
       "      <td>0</td>\n",
       "    </tr>\n",
       "    <tr>\n",
       "      <th>10005.2</th>\n",
       "      <td>10005.2</td>\n",
       "      <td>[]</td>\n",
       "      <td>0</td>\n",
       "      <td>NaN</td>\n",
       "      <td>0</td>\n",
       "      <td>[]</td>\n",
       "      <td>0</td>\n",
       "      <td>[]</td>\n",
       "      <td>0</td>\n",
       "      <td>NaN</td>\n",
       "      <td>NaN</td>\n",
       "      <td>NaN</td>\n",
       "      <td>0</td>\n",
       "      <td>0</td>\n",
       "    </tr>\n",
       "  </tbody>\n",
       "</table>\n",
       "</div>"
      ],
      "text/plain": [
       "              id   sequences  num_sequences representative_sequence  \\\n",
       "gene                                                                  \n",
       "10.1        10.1  [P11245-1]              1                P11245-1   \n",
       "100.1      100.1  [P00813-1]              1                P00813-1   \n",
       "10000.1  10000.1  [Q9Y243-1]              1                Q9Y243-1   \n",
       "10005.1  10005.1  [O14734-1]              1                O14734-1   \n",
       "10005.2  10005.2          []              0                     NaN   \n",
       "\n",
       "         num_structures                            experimental_structures  \\\n",
       "gene                                                                         \n",
       "10.1                  3                                             [2pfr]   \n",
       "100.1                22  [3iar, 2bgn, 1w1i, 1qxl, 1krm, 2z7g, 2e1w, 1wx...   \n",
       "10000.1               2                                             [2x18]   \n",
       "10005.1               2                                                 []   \n",
       "10005.2               0                                                 []   \n",
       "\n",
       "         num_experimental_structures            homology_models  \\\n",
       "gene                                                              \n",
       "10.1                               1  [H12520, ENSP00000286479]   \n",
       "100.1                             20  [H27942, ENSP00000361965]   \n",
       "10000.1                            1                   [H03080]   \n",
       "10005.1                            0  [H28002, ENSP00000217455]   \n",
       "10005.2                            0                         []   \n",
       "\n",
       "         num_homology_models representative_structure representative_chain  \\\n",
       "gene                                                                         \n",
       "10.1                       2                   2pfr-A                    A   \n",
       "100.1                      2                   3iar-A                    A   \n",
       "10000.1                    1                 H03080-X                    X   \n",
       "10005.1                    2                 H28002-X                    X   \n",
       "10005.2                    0                      NaN                  NaN   \n",
       "\n",
       "         representative_chain_seq_coverage  num_sequence_alignments  \\\n",
       "gene                                                                  \n",
       "10.1                                  99.7                        2   \n",
       "100.1                                 98.6                        1   \n",
       "10000.1                              100.0                        9   \n",
       "10005.1                              100.0                        1   \n",
       "10005.2                                NaN                        0   \n",
       "\n",
       "         num_structure_alignments  \n",
       "gene                               \n",
       "10.1                            0  \n",
       "100.1                           0  \n",
       "10000.1                         0  \n",
       "10005.1                         0  \n",
       "10005.2                         0  "
      ]
     },
     "execution_count": 5,
     "metadata": {},
     "output_type": "execute_result"
    }
   ],
   "source": [
    "# Summarize each protein\n",
    "Recon3D_GP.df_proteins.head()"
   ]
  },
  {
   "cell_type": "code",
   "execution_count": 6,
   "metadata": {
    "collapsed": false
   },
   "outputs": [
    {
     "data": {
      "text/html": [
       "<div>\n",
       "<style>\n",
       "    .dataframe thead tr:only-child th {\n",
       "        text-align: right;\n",
       "    }\n",
       "\n",
       "    .dataframe thead th {\n",
       "        text-align: left;\n",
       "    }\n",
       "\n",
       "    .dataframe tbody tr th {\n",
       "        vertical-align: top;\n",
       "    }\n",
       "</style>\n",
       "<table border=\"1\" class=\"dataframe\">\n",
       "  <thead>\n",
       "    <tr style=\"text-align: right;\">\n",
       "      <th></th>\n",
       "      <th>uniprot</th>\n",
       "      <th>kegg</th>\n",
       "      <th>num_pdbs</th>\n",
       "      <th>pdbs</th>\n",
       "      <th>seq_len</th>\n",
       "      <th>sequence_file</th>\n",
       "      <th>metadata_file</th>\n",
       "    </tr>\n",
       "    <tr>\n",
       "      <th>gene</th>\n",
       "      <th></th>\n",
       "      <th></th>\n",
       "      <th></th>\n",
       "      <th></th>\n",
       "      <th></th>\n",
       "      <th></th>\n",
       "      <th></th>\n",
       "    </tr>\n",
       "  </thead>\n",
       "  <tbody>\n",
       "    <tr>\n",
       "      <th>10.1</th>\n",
       "      <td>P11245-1</td>\n",
       "      <td>hsa:10</td>\n",
       "      <td>1</td>\n",
       "      <td>2PFR</td>\n",
       "      <td>290</td>\n",
       "      <td>P11245-1.fasta</td>\n",
       "      <td>P11245-1.txt</td>\n",
       "    </tr>\n",
       "    <tr>\n",
       "      <th>100.1</th>\n",
       "      <td>P00813-1</td>\n",
       "      <td>hsa:100</td>\n",
       "      <td>2</td>\n",
       "      <td>3IAR;1M7M</td>\n",
       "      <td>363</td>\n",
       "      <td>P00813-1.fasta</td>\n",
       "      <td>P00813-1.txt</td>\n",
       "    </tr>\n",
       "    <tr>\n",
       "      <th>10000.1</th>\n",
       "      <td>Q9Y243-1</td>\n",
       "      <td>hsa:10000</td>\n",
       "      <td>1</td>\n",
       "      <td>2X18</td>\n",
       "      <td>479</td>\n",
       "      <td>Q9Y243-1.fasta</td>\n",
       "      <td>Q9Y243-1.txt</td>\n",
       "    </tr>\n",
       "    <tr>\n",
       "      <th>10005.1</th>\n",
       "      <td>O14734-1</td>\n",
       "      <td>hsa:10005</td>\n",
       "      <td>0</td>\n",
       "      <td>NaN</td>\n",
       "      <td>319</td>\n",
       "      <td>O14734-1.fasta</td>\n",
       "      <td>O14734-1.txt</td>\n",
       "    </tr>\n",
       "    <tr>\n",
       "      <th>10007.1</th>\n",
       "      <td>P46926-1</td>\n",
       "      <td>hsa:10007</td>\n",
       "      <td>1</td>\n",
       "      <td>1NE7</td>\n",
       "      <td>289</td>\n",
       "      <td>P46926-1.fasta</td>\n",
       "      <td>P46926-1.txt</td>\n",
       "    </tr>\n",
       "  </tbody>\n",
       "</table>\n",
       "</div>"
      ],
      "text/plain": [
       "          uniprot       kegg  num_pdbs       pdbs  seq_len   sequence_file  \\\n",
       "gene                                                                         \n",
       "10.1     P11245-1     hsa:10         1       2PFR      290  P11245-1.fasta   \n",
       "100.1    P00813-1    hsa:100         2  3IAR;1M7M      363  P00813-1.fasta   \n",
       "10000.1  Q9Y243-1  hsa:10000         1       2X18      479  Q9Y243-1.fasta   \n",
       "10005.1  O14734-1  hsa:10005         0        NaN      319  O14734-1.fasta   \n",
       "10007.1  P46926-1  hsa:10007         1       1NE7      289  P46926-1.fasta   \n",
       "\n",
       "        metadata_file  \n",
       "gene                   \n",
       "10.1     P11245-1.txt  \n",
       "100.1    P00813-1.txt  \n",
       "10000.1  Q9Y243-1.txt  \n",
       "10005.1  O14734-1.txt  \n",
       "10007.1  P46926-1.txt  "
      ]
     },
     "execution_count": 6,
     "metadata": {},
     "output_type": "execute_result"
    }
   ],
   "source": [
    "# Summarize the sequences mapped to each protein\n",
    "Recon3D_GP.df_representative_sequences.head()"
   ]
  },
  {
   "cell_type": "code",
   "execution_count": 7,
   "metadata": {
    "collapsed": false
   },
   "outputs": [
    {
     "data": {
      "text/html": [
       "<div>\n",
       "<style>\n",
       "    .dataframe thead tr:only-child th {\n",
       "        text-align: right;\n",
       "    }\n",
       "\n",
       "    .dataframe thead th {\n",
       "        text-align: left;\n",
       "    }\n",
       "\n",
       "    .dataframe tbody tr th {\n",
       "        vertical-align: top;\n",
       "    }\n",
       "</style>\n",
       "<table border=\"1\" class=\"dataframe\">\n",
       "  <thead>\n",
       "    <tr style=\"text-align: right;\">\n",
       "      <th></th>\n",
       "      <th>id</th>\n",
       "      <th>is_experimental</th>\n",
       "      <th>file_type</th>\n",
       "      <th>structure_file</th>\n",
       "    </tr>\n",
       "    <tr>\n",
       "      <th>gene</th>\n",
       "      <th></th>\n",
       "      <th></th>\n",
       "      <th></th>\n",
       "      <th></th>\n",
       "    </tr>\n",
       "  </thead>\n",
       "  <tbody>\n",
       "    <tr>\n",
       "      <th>10.1</th>\n",
       "      <td>2pfr-A</td>\n",
       "      <td>True</td>\n",
       "      <td>pdb</td>\n",
       "      <td>2pfr-A_clean.pdb</td>\n",
       "    </tr>\n",
       "    <tr>\n",
       "      <th>100.1</th>\n",
       "      <td>3iar-A</td>\n",
       "      <td>True</td>\n",
       "      <td>pdb</td>\n",
       "      <td>3iar-A_clean.pdb</td>\n",
       "    </tr>\n",
       "    <tr>\n",
       "      <th>10000.1</th>\n",
       "      <td>H03080-X</td>\n",
       "      <td>False</td>\n",
       "      <td>pdb</td>\n",
       "      <td>NP_005456.1_model1_clean-X_clean.pdb</td>\n",
       "    </tr>\n",
       "    <tr>\n",
       "      <th>10005.1</th>\n",
       "      <td>H28002-X</td>\n",
       "      <td>False</td>\n",
       "      <td>pdb</td>\n",
       "      <td>NP_005460.2_model1_clean-X_clean.pdb</td>\n",
       "    </tr>\n",
       "    <tr>\n",
       "      <th>10007.1</th>\n",
       "      <td>1ne7-A</td>\n",
       "      <td>True</td>\n",
       "      <td>pdb</td>\n",
       "      <td>1ne7-A_clean.pdb</td>\n",
       "    </tr>\n",
       "  </tbody>\n",
       "</table>\n",
       "</div>"
      ],
      "text/plain": [
       "               id  is_experimental file_type  \\\n",
       "gene                                           \n",
       "10.1       2pfr-A             True       pdb   \n",
       "100.1      3iar-A             True       pdb   \n",
       "10000.1  H03080-X            False       pdb   \n",
       "10005.1  H28002-X            False       pdb   \n",
       "10007.1    1ne7-A             True       pdb   \n",
       "\n",
       "                               structure_file  \n",
       "gene                                           \n",
       "10.1                         2pfr-A_clean.pdb  \n",
       "100.1                        3iar-A_clean.pdb  \n",
       "10000.1  NP_005456.1_model1_clean-X_clean.pdb  \n",
       "10005.1  NP_005460.2_model1_clean-X_clean.pdb  \n",
       "10007.1                      1ne7-A_clean.pdb  "
      ]
     },
     "execution_count": 7,
     "metadata": {},
     "output_type": "execute_result"
    }
   ],
   "source": [
    "# Summarize the structures mapped to each protein\n",
    "Recon3D_GP.df_representative_structures.head()"
   ]
  },
  {
   "cell_type": "markdown",
   "metadata": {},
   "source": [
    "### Inspecting the content of one gene and its protein"
   ]
  },
  {
   "cell_type": "code",
   "execution_count": 8,
   "metadata": {
    "collapsed": false
   },
   "outputs": [
    {
     "data": {
      "text/plain": [
       "<Protein 100.1 at 0x7f4858d80518>"
      ]
     },
     "execution_count": 8,
     "metadata": {},
     "output_type": "execute_result"
    }
   ],
   "source": [
    "# Looking at the content stored per gene\n",
    "my_protein = Recon3D_GP.genes.get_by_id('100.1').protein\n",
    "my_protein"
   ]
  },
  {
   "cell_type": "markdown",
   "metadata": {},
   "source": [
    "#### Protein sequences and structures"
   ]
  },
  {
   "cell_type": "code",
   "execution_count": 9,
   "metadata": {
    "collapsed": false
   },
   "outputs": [
    {
     "data": {
      "text/plain": [
       "[<UniProtProp P00813-1 at 0x7f4858d1e4e0>]"
      ]
     },
     "execution_count": 9,
     "metadata": {},
     "output_type": "execute_result"
    }
   ],
   "source": [
    "my_protein.sequences"
   ]
  },
  {
   "cell_type": "code",
   "execution_count": 10,
   "metadata": {
    "collapsed": false
   },
   "outputs": [
    {
     "data": {
      "text/plain": [
       "[<StructProp H27942 at 0x7f4858d15400>,\n",
       " <StructProp ENSP00000361965 at 0x7f4858d15470>,\n",
       " <PDBProp 3iar at 0x7f4858d0d438>,\n",
       " <PDBProp 2bgn at 0x7f4858d15438>,\n",
       " <PDBProp 1w1i at 0x7f4858d15668>,\n",
       " <PDBProp 1qxl at 0x7f4858d15978>,\n",
       " <PDBProp 1krm at 0x7f4858d15c88>,\n",
       " <PDBProp 2z7g at 0x7f4858d15da0>,\n",
       " <PDBProp 2e1w at 0x7f4858d15eb8>,\n",
       " <PDBProp 1wxz at 0x7f4858d15fd0>,\n",
       " <PDBProp 1wxy at 0x7f4858d1b128>,\n",
       " <PDBProp 1vfl at 0x7f4858d1b240>,\n",
       " <PDBProp 1v7a at 0x7f4858d1b358>,\n",
       " <PDBProp 1v79 at 0x7f4858d1b470>,\n",
       " <PDBProp 1uml at 0x7f4858d1b588>,\n",
       " <PDBProp 1o5r at 0x7f4858d1b6a0>,\n",
       " <PDBProp 1ndz at 0x7f4858d1b7b8>,\n",
       " <PDBProp 1ndy at 0x7f4858d1b8d0>,\n",
       " <PDBProp 1ndw at 0x7f4858d1b9e8>,\n",
       " <PDBProp 1ndv at 0x7f4858d1bb00>,\n",
       " <PDBProp 2ada at 0x7f4858d1bc18>,\n",
       " <PDBProp 3km8 at 0x7f4858d1bd30>]"
      ]
     },
     "execution_count": 10,
     "metadata": {},
     "output_type": "execute_result"
    }
   ],
   "source": [
    "my_protein.structures"
   ]
  },
  {
   "cell_type": "markdown",
   "metadata": {},
   "source": [
    "## Viewing 3D structures"
   ]
  },
  {
   "cell_type": "code",
   "execution_count": 11,
   "metadata": {
    "collapsed": false
   },
   "outputs": [],
   "source": [
    "# Displaying a structure\n",
    "my_protein.structures.get_by_id('3iar').view_structure(recolor=False)"
   ]
  },
  {
   "cell_type": "code",
   "execution_count": 12,
   "metadata": {
    "collapsed": false
   },
   "outputs": [],
   "source": [
    "# Displaying the protein's representative structure (single chain)\n",
    "my_protein.representative_structure.view_structure(recolor=False)"
   ]
  },
  {
   "cell_type": "code",
   "execution_count": null,
   "metadata": {
    "collapsed": true
   },
   "outputs": [],
   "source": []
  }
 ],
 "metadata": {
  "anaconda-cloud": {},
  "kernelspec": {
   "display_name": "Python [default]",
   "language": "python",
   "name": "python3"
  },
  "language_info": {
   "codemirror_mode": {
    "name": "ipython",
    "version": 3
   },
   "file_extension": ".py",
   "mimetype": "text/x-python",
   "name": "python",
   "nbconvert_exporter": "python",
   "pygments_lexer": "ipython3",
   "version": "3.5.2"
  },
  "widgets": {
   "state": {
    "8d6bcda513724d42a830bebf464e32f5": {
     "views": [
      {
       "cell_index": 19
      }
     ]
    },
    "e0d8d9da6c794c309c8b5bd22c7663d4": {
     "views": [
      {
       "cell_index": 18
      }
     ]
    }
   },
   "version": "1.2.0"
  }
 },
 "nbformat": 4,
 "nbformat_minor": 1
}
