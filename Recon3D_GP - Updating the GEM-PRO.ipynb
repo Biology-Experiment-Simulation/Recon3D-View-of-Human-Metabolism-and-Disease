{
 "cells": [
  {
   "cell_type": "markdown",
   "metadata": {},
   "source": [
    "# Recon3D_GP - Updating the GEM-PRO\n",
    "\n",
    "The purpose of this notebook is to provide a quick pipeline to update a GEM-PRO with the most recent sequence and structure data. This pipeline can also be used to download all sequence and structure data if you are starting with just the GEM-PRO ``.json.gz`` file. Otherwise, make sure that the ``Recon3D_GP`` folder is in the same directory as this notebook.\n",
    "\n",
    "Running this pipeline may take a while, timings are provided in the progress bars for each method below.\n",
    "\n",
    "For a full tutorial on how a GEM-PRO is actually created, and the details of each method, see [this tutorial notebook](http://ssbio.readthedocs.io/en/latest/notebooks/GEM-PRO%20-%20SBML%20Model%20%28iNJ661%29.html).\n",
    "\n",
    "### Requirements:\n",
    "- ``ssbio`` - installation instructions [here](http://ssbio.readthedocs.io/en/latest/#installation), documentation [here](http://ssbio.readthedocs.io/en/latest/index.html)\n",
    "\n",
    "### Quick start:\n",
    "##### Installation\n",
    "```bash\n",
    "pip install nglview\n",
    "pip install ssbio\n",
    "```\n",
    "\n",
    "##### Running the notebook\n",
    "\n",
    "1. Obtain one of these three items:\n",
    "    1. GitHub repository clone (`git clone https://github.com/SBRG/Recon3D`)\n",
    "    1. Lite GEM-PRO archive (`Recon3D_GP_archive-lite.tar.gz`)\n",
    "    1. GEM-PRO model (``Recon3D_GP.json.gz``)\n",
    "1. If A: just open this notebook and run it.\n",
    "1. If B: unzip the archive into the directory where this notebook is located.\n",
    "1. If C: create a folder where this notebook is located, named ``Recon3D_GP/model/`` and place ``Recon3D_GP.json.gz`` in it.\n",
    "1. Make sure your files are arranged like so:\n",
    "```\n",
    ".\n",
    "├── Recon3D_GP\n",
    "│   ├── data\n",
    "│   ├── genes\n",
    "│   ├── homology_models_raw\n",
    "│   └── model\n",
    "│       └── Recon3D_GP.json.gz\n",
    "├── Recon3D_GP - Loading and Exploring the GEM-PRO.ipynb\n",
    "└── Recon3D_GP - Updating the GEM-PRO.ipynb\n",
    "```\n",
    "1. Run this notebook!"
   ]
  },
  {
   "cell_type": "markdown",
   "metadata": {},
   "source": [
    "### Imports and loading the model"
   ]
  },
  {
   "cell_type": "code",
   "execution_count": null,
   "metadata": {
    "collapsed": false
   },
   "outputs": [],
   "source": [
    "# Loading the JSON file\n",
    "# Change the location of the .json file if it is located somewhere else\n",
    "from ssbio.core.io import load_json\n",
    "Recon3D_GP = load_json('./Recon3D_GP/model/Recon3D_GP.json.gz', decompression=True)"
   ]
  },
  {
   "cell_type": "code",
   "execution_count": null,
   "metadata": {
    "collapsed": true
   },
   "outputs": [],
   "source": [
    "# # Alternative - loading the pickle file\n",
    "# # Uncomment and use this loading method if the JSON file fails to load\n",
    "# from ssbio.core.io import load_pickle\n",
    "# Recon3D_GP = load_pickle('./Recon3D_GP/model/Recon3D_GP.pckl')"
   ]
  },
  {
   "cell_type": "code",
   "execution_count": null,
   "metadata": {
    "collapsed": false
   },
   "outputs": [],
   "source": [
    "# Displaying directories to which information will be downloaded to\n",
    "# You can change the root_dir if the \"Recon3D_GP\" folder is located somewhere else, or if you want to start fresh\n",
    "print('Location of the \"Recon3D_GP\" folder:', Recon3D_GP.root_dir)\n",
    "\n",
    "## If the root directory needs to be changed\n",
    "# Recon3D_GP.root_dir = '/path/to/new/root_dir/with/Recon3D_GP/folder/in/it'"
   ]
  },
  {
   "cell_type": "code",
   "execution_count": null,
   "metadata": {
    "collapsed": false
   },
   "outputs": [],
   "source": [
    "# Setting logging display settings\n",
    "import os.path as op\n",
    "import json\n",
    "import sys\n",
    "import logging\n",
    "logger = logging.getLogger()\n",
    "logger.setLevel(logging.INFO)\n",
    "handler = logging.StreamHandler(sys.stderr)\n",
    "formatter = logging.Formatter('[%(asctime)s] [%(name)s] %(levelname)s: %(message)s', datefmt=\"%Y-%m-%d %H:%M\")\n",
    "handler.setFormatter(formatter)\n",
    "logger.handlers = [handler]"
   ]
  },
  {
   "cell_type": "code",
   "execution_count": null,
   "metadata": {
    "collapsed": true
   },
   "outputs": [],
   "source": [
    "# Printing multiple outputs per cell\n",
    "from IPython.core.interactiveshell import InteractiveShell\n",
    "InteractiveShell.ast_node_interactivity = \"all\""
   ]
  },
  {
   "cell_type": "markdown",
   "metadata": {},
   "source": [
    "### Updating sequence information"
   ]
  },
  {
   "cell_type": "code",
   "execution_count": null,
   "metadata": {
    "collapsed": false
   },
   "outputs": [],
   "source": [
    "# Loading pre-defined isoform ID mappings\n",
    "with open(op.join(Recon3D_GP.root_dir, 'Recon3D_GP/data/170526-manual_id_mapping.json'), 'r') as f:\n",
    "    mapping = json.load(f)\n",
    "u_isoforms = {}\n",
    "for k, v in mapping['u_isoform_id'].items():\n",
    "    if v == 'nan':\n",
    "        continue\n",
    "    u_isoforms[k] = v"
   ]
  },
  {
   "cell_type": "code",
   "execution_count": null,
   "metadata": {
    "collapsed": false
   },
   "outputs": [],
   "source": [
    "# Set all methods to force_rerun=True to re-download information from KEGG and UniProt\n",
    "Recon3D_GP.manual_uniprot_mapping(gene_to_uniprot_dict=u_isoforms, \n",
    "                                  download_metadata_file_type='txt', \n",
    "                                  simple_parse=True, force_rerun=True)"
   ]
  },
  {
   "cell_type": "markdown",
   "metadata": {},
   "source": [
    "### Updating structure information"
   ]
  },
  {
   "cell_type": "code",
   "execution_count": null,
   "metadata": {
    "collapsed": false
   },
   "outputs": [],
   "source": [
    "# Set all methods to force_rerun=True to re-download information from the PDB\n",
    "Recon3D_GP.map_uniprot_to_pdb(force_rerun=True)\n",
    "Recon3D_GP.blast_seqs_to_pdb(seq_ident_cutoff=.8, all_genes=True, force_rerun=True)\n",
    "Recon3D_GP.set_representative_structure(allow_missing_on_termini=.30, allow_insertions=True, force_rerun=True)"
   ]
  },
  {
   "cell_type": "markdown",
   "metadata": {},
   "source": [
    "### Saving the updated GEM-PRO"
   ]
  },
  {
   "cell_type": "code",
   "execution_count": null,
   "metadata": {
    "collapsed": true
   },
   "outputs": [],
   "source": [
    "# Both JSON and pickle saving methods are provided\n",
    "# JSON is human-readable and data can be utilized in other languages\n",
    "# Pickles are Python specific\n",
    "# Recon3D_GP.save_json(op.join(Recon3D_GP.root_dir, '/Recon3D_GP/model/Recon3D_GP_updated.json'), compression=False)\n",
    "Recon3D_GP.save_json(op.join(Recon3D_GP.root_dir, '/Recon3D_GP/model/Recon3D_GP_updated.json.gz'), compression=True)\n",
    "Recon3D_GP.save_pickle(outfile=op.join(Recon3D_GP.root_dir, '/Recon3D_GP/model/Recon3D_GP_updated.pckl'))"
   ]
  }
 ],
 "metadata": {
  "anaconda-cloud": {},
  "kernelspec": {
   "display_name": "Python [default]",
   "language": "python",
   "name": "python3"
  },
  "language_info": {
   "codemirror_mode": {
    "name": "ipython",
    "version": 3
   },
   "file_extension": ".py",
   "mimetype": "text/x-python",
   "name": "python",
   "nbconvert_exporter": "python",
   "pygments_lexer": "ipython3",
   "version": "3.5.2"
  }
 },
 "nbformat": 4,
 "nbformat_minor": 1
}
